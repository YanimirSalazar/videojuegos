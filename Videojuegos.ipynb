{
 "cells": [
  {
   "cell_type": "markdown",
   "metadata": {},
   "source": [
    "# Contenido <a id='back'></a>\n",
    "\n",
    "\n",
    "* [Introducción](#intro)\n",
    "* [Etapa 1. Exploración de los datos](#exploracion_datos)\n",
    "    * [Inicialización](#inicializacion) \n",
    "    * [Cargar los datos](#cargar)\n",
    "    * [Explorar datos iniciales](#explorar)\n",
    "    * [Conclusiones y siguientes pasos](#pasos)\n",
    "* [Etapa 2. Preparar los datos](#preparar)\n",
    "    * [Reenombrar las columnas](#reenombrar)\n",
    "    * [Tratar los valores ausentes](#ausentes)\n",
    "    * [Corregir tipos de datos](#corregir)\n",
    "    * [Enriquecer datos](#enriquecer)\n",
    "* [Etapa 3. Analizar los datos](#analizar)\n",
    "    * [Ventas PS2](#ps2)\n",
    "    * [Ventas X360](#x360)\n",
    "    * [Ventas PS3](#ps3)\n",
    "    * [Ventas Wii](#wii)\n",
    "    * [Conclusiones ventas](#conclu_ventas)\n",
    "* [Etapa 4. Nuevo conjunto de datos](#nuevo)\n",
    "    * [Ventas PS4](#ps4)\n",
    "    * [Ventas PS3](#ps3_n)\n",
    "    * [Ventas X360](#x360_n)\n",
    "    * [Ventas 3DS](#3ds)\n",
    "    * [Ventas XOne](#xone)\n",
    "    * [Ventas WiiU](#wiiu)\n",
    "    * [Conclusiones](#conclu_nuevo)\n",
    "* [Etapa 5. Estudio de ventas globales](#estudiar_ventas)\n",
    "* [Etapa 6. Correlación entre las reseñas y las ventas](#correlacion)\n",
    "    * [Reseñas de usuarios y ventas](#usuarios)\n",
    "    * [Reseñas de críticos y ventas](#criticos)\n",
    "    * [Conclusiones](#conclu_reseñas)\n",
    "* [Etapa 7. Estudio de ventas por juegos](#estudiar)\n",
    "    * [Juegos PS4](#juegos_ps4)\n",
    "    * [Juegos XOne](#juegos_xone)\n",
    "    * [Conclusiones](#conclu_juegos)\n",
    "* [Etapa 8. Distribución general de los juegos por género](#distribucion)\n",
    "    * [Acción](#accion)\n",
    "    * [Shooter](#shooter)\n",
    "    * [Role-Playing](#role)\n",
    "    * [Sports](#sports)\n",
    "    * [Conclusiones](#conclu_generos)\n",
    "* [Etapa 9. Perfil de usuario por región](#perfil)\n",
    "    * [Región NA](#na)\n",
    "    * [Región EU](#eu)\n",
    "    * [Región JP](#jp)\n",
    "    * [Other Regiones](#other)\n",
    "    * [Conclusiones](#conclu_regiones)    \n",
    "* [Etapa 10. Hipótesis estadísticas](#hipotesis)\n",
    "    * [Hipótesis 1: ¿Las calificaciones promedio de los usuarios para las plataformas Xbox One y PC son iguales?](#hipotesis_1)\n",
    "    * [Hipótesis 2: ¿Las calificaciones promedio de los usuarios para los géneros de Acción y Deportes no son diferentes?](#hipotesis_2)\n",
    "* [Conclusión general](#general)\n",
    "           "
   ]
  },
  {
   "cell_type": "markdown",
   "metadata": {},
   "source": [
    "# ¿Es exitoso el juego?<a id='intro'></a>\n",
    "Trabajas para la tienda online Ice que vende videojuegos por todo el mundo. Tienes que identificar patrones que determinen si un videojuego tiene éxito o no. Esto te permitirá detectar proyectos prometedores y planificar campañas publicitarias.\n"
   ]
  },
  {
   "cell_type": "markdown",
   "metadata": {},
   "source": [
    "Este proyecto tiene como propósito identificar patrones que determinen si un videojuego tiene éxito o no, la información sobre reseñas de usuarios y expertos, los géneros, las plataformas y los datos históricos sobre las ventas están disponibles en fuentas abiertas. Se va a tratar los valores ausentes, corregir los tipo de datos, analizar los datos limpios, crear un perfil de usuario para cada región, probar algunas hipótesis para luego determinar las conclusiones del estudio."
   ]
  },
  {
   "cell_type": "markdown",
   "metadata": {},
   "source": [
    "## Exploración de los datos <a id='exploracion_datos'></a>"
   ]
  },
  {
   "cell_type": "markdown",
   "metadata": {},
   "source": [
    "### Inicialización <a id='inicializacion'></a>"
   ]
  },
  {
   "cell_type": "code",
   "execution_count": 1,
   "metadata": {},
   "outputs": [],
   "source": [
    "# Importación de librerías\n",
    "\n",
    "import pandas as pd\n",
    "import matplotlib.pyplot as plt\n",
    "import numpy as np\n",
    "import seaborn as sns\n",
    "from scipy import stats as st"
   ]
  },
  {
   "cell_type": "markdown",
   "metadata": {},
   "source": [
    "### Cargar datos <a id='cargar'></a>"
   ]
  },
  {
   "cell_type": "code",
   "execution_count": 2,
   "metadata": {},
   "outputs": [],
   "source": [
    "# Carga del archivo de datos DataFrame\n",
    "\n",
    "games= pd.read_csv('/datasets/games.csv')"
   ]
  },
  {
   "cell_type": "markdown",
   "metadata": {},
   "source": [
    "### Explorar datos iniciales <a id='exploracion_datos'></a>"
   ]
  },
  {
   "cell_type": "code",
   "execution_count": 3,
   "metadata": {},
   "outputs": [
    {
     "name": "stdout",
     "output_type": "stream",
     "text": [
      "<class 'pandas.core.frame.DataFrame'>\n",
      "RangeIndex: 16715 entries, 0 to 16714\n",
      "Data columns (total 11 columns):\n",
      " #   Column           Non-Null Count  Dtype  \n",
      "---  ------           --------------  -----  \n",
      " 0   Name             16713 non-null  object \n",
      " 1   Platform         16715 non-null  object \n",
      " 2   Year_of_Release  16446 non-null  float64\n",
      " 3   Genre            16713 non-null  object \n",
      " 4   NA_sales         16715 non-null  float64\n",
      " 5   EU_sales         16715 non-null  float64\n",
      " 6   JP_sales         16715 non-null  float64\n",
      " 7   Other_sales      16715 non-null  float64\n",
      " 8   Critic_Score     8137 non-null   float64\n",
      " 9   User_Score       10014 non-null  object \n",
      " 10  Rating           9949 non-null   object \n",
      "dtypes: float64(6), object(5)\n",
      "memory usage: 1.4+ MB\n"
     ]
    }
   ],
   "source": [
    "# Información general/resumen sobre el DataFrame \n",
    "games.info()"
   ]
  },
  {
   "cell_type": "code",
   "execution_count": 4,
   "metadata": {},
   "outputs": [
    {
     "data": {
      "text/html": [
       "<div>\n",
       "<style scoped>\n",
       "    .dataframe tbody tr th:only-of-type {\n",
       "        vertical-align: middle;\n",
       "    }\n",
       "\n",
       "    .dataframe tbody tr th {\n",
       "        vertical-align: top;\n",
       "    }\n",
       "\n",
       "    .dataframe thead th {\n",
       "        text-align: right;\n",
       "    }\n",
       "</style>\n",
       "<table border=\"1\" class=\"dataframe\">\n",
       "  <thead>\n",
       "    <tr style=\"text-align: right;\">\n",
       "      <th></th>\n",
       "      <th>Name</th>\n",
       "      <th>Platform</th>\n",
       "      <th>Year_of_Release</th>\n",
       "      <th>Genre</th>\n",
       "      <th>NA_sales</th>\n",
       "      <th>EU_sales</th>\n",
       "      <th>JP_sales</th>\n",
       "      <th>Other_sales</th>\n",
       "      <th>Critic_Score</th>\n",
       "      <th>User_Score</th>\n",
       "      <th>Rating</th>\n",
       "    </tr>\n",
       "  </thead>\n",
       "  <tbody>\n",
       "    <tr>\n",
       "      <th>0</th>\n",
       "      <td>Wii Sports</td>\n",
       "      <td>Wii</td>\n",
       "      <td>2006.0</td>\n",
       "      <td>Sports</td>\n",
       "      <td>41.36</td>\n",
       "      <td>28.96</td>\n",
       "      <td>3.77</td>\n",
       "      <td>8.45</td>\n",
       "      <td>76.0</td>\n",
       "      <td>8</td>\n",
       "      <td>E</td>\n",
       "    </tr>\n",
       "    <tr>\n",
       "      <th>1</th>\n",
       "      <td>Super Mario Bros.</td>\n",
       "      <td>NES</td>\n",
       "      <td>1985.0</td>\n",
       "      <td>Platform</td>\n",
       "      <td>29.08</td>\n",
       "      <td>3.58</td>\n",
       "      <td>6.81</td>\n",
       "      <td>0.77</td>\n",
       "      <td>NaN</td>\n",
       "      <td>NaN</td>\n",
       "      <td>NaN</td>\n",
       "    </tr>\n",
       "    <tr>\n",
       "      <th>2</th>\n",
       "      <td>Mario Kart Wii</td>\n",
       "      <td>Wii</td>\n",
       "      <td>2008.0</td>\n",
       "      <td>Racing</td>\n",
       "      <td>15.68</td>\n",
       "      <td>12.76</td>\n",
       "      <td>3.79</td>\n",
       "      <td>3.29</td>\n",
       "      <td>82.0</td>\n",
       "      <td>8.3</td>\n",
       "      <td>E</td>\n",
       "    </tr>\n",
       "    <tr>\n",
       "      <th>3</th>\n",
       "      <td>Wii Sports Resort</td>\n",
       "      <td>Wii</td>\n",
       "      <td>2009.0</td>\n",
       "      <td>Sports</td>\n",
       "      <td>15.61</td>\n",
       "      <td>10.93</td>\n",
       "      <td>3.28</td>\n",
       "      <td>2.95</td>\n",
       "      <td>80.0</td>\n",
       "      <td>8</td>\n",
       "      <td>E</td>\n",
       "    </tr>\n",
       "    <tr>\n",
       "      <th>4</th>\n",
       "      <td>Pokemon Red/Pokemon Blue</td>\n",
       "      <td>GB</td>\n",
       "      <td>1996.0</td>\n",
       "      <td>Role-Playing</td>\n",
       "      <td>11.27</td>\n",
       "      <td>8.89</td>\n",
       "      <td>10.22</td>\n",
       "      <td>1.00</td>\n",
       "      <td>NaN</td>\n",
       "      <td>NaN</td>\n",
       "      <td>NaN</td>\n",
       "    </tr>\n",
       "    <tr>\n",
       "      <th>5</th>\n",
       "      <td>Tetris</td>\n",
       "      <td>GB</td>\n",
       "      <td>1989.0</td>\n",
       "      <td>Puzzle</td>\n",
       "      <td>23.20</td>\n",
       "      <td>2.26</td>\n",
       "      <td>4.22</td>\n",
       "      <td>0.58</td>\n",
       "      <td>NaN</td>\n",
       "      <td>NaN</td>\n",
       "      <td>NaN</td>\n",
       "    </tr>\n",
       "    <tr>\n",
       "      <th>6</th>\n",
       "      <td>New Super Mario Bros.</td>\n",
       "      <td>DS</td>\n",
       "      <td>2006.0</td>\n",
       "      <td>Platform</td>\n",
       "      <td>11.28</td>\n",
       "      <td>9.14</td>\n",
       "      <td>6.50</td>\n",
       "      <td>2.88</td>\n",
       "      <td>89.0</td>\n",
       "      <td>8.5</td>\n",
       "      <td>E</td>\n",
       "    </tr>\n",
       "    <tr>\n",
       "      <th>7</th>\n",
       "      <td>Wii Play</td>\n",
       "      <td>Wii</td>\n",
       "      <td>2006.0</td>\n",
       "      <td>Misc</td>\n",
       "      <td>13.96</td>\n",
       "      <td>9.18</td>\n",
       "      <td>2.93</td>\n",
       "      <td>2.84</td>\n",
       "      <td>58.0</td>\n",
       "      <td>6.6</td>\n",
       "      <td>E</td>\n",
       "    </tr>\n",
       "    <tr>\n",
       "      <th>8</th>\n",
       "      <td>New Super Mario Bros. Wii</td>\n",
       "      <td>Wii</td>\n",
       "      <td>2009.0</td>\n",
       "      <td>Platform</td>\n",
       "      <td>14.44</td>\n",
       "      <td>6.94</td>\n",
       "      <td>4.70</td>\n",
       "      <td>2.24</td>\n",
       "      <td>87.0</td>\n",
       "      <td>8.4</td>\n",
       "      <td>E</td>\n",
       "    </tr>\n",
       "    <tr>\n",
       "      <th>9</th>\n",
       "      <td>Duck Hunt</td>\n",
       "      <td>NES</td>\n",
       "      <td>1984.0</td>\n",
       "      <td>Shooter</td>\n",
       "      <td>26.93</td>\n",
       "      <td>0.63</td>\n",
       "      <td>0.28</td>\n",
       "      <td>0.47</td>\n",
       "      <td>NaN</td>\n",
       "      <td>NaN</td>\n",
       "      <td>NaN</td>\n",
       "    </tr>\n",
       "  </tbody>\n",
       "</table>\n",
       "</div>"
      ],
      "text/plain": [
       "                        Name Platform  Year_of_Release         Genre  \\\n",
       "0                 Wii Sports      Wii           2006.0        Sports   \n",
       "1          Super Mario Bros.      NES           1985.0      Platform   \n",
       "2             Mario Kart Wii      Wii           2008.0        Racing   \n",
       "3          Wii Sports Resort      Wii           2009.0        Sports   \n",
       "4   Pokemon Red/Pokemon Blue       GB           1996.0  Role-Playing   \n",
       "5                     Tetris       GB           1989.0        Puzzle   \n",
       "6      New Super Mario Bros.       DS           2006.0      Platform   \n",
       "7                   Wii Play      Wii           2006.0          Misc   \n",
       "8  New Super Mario Bros. Wii      Wii           2009.0      Platform   \n",
       "9                  Duck Hunt      NES           1984.0       Shooter   \n",
       "\n",
       "   NA_sales  EU_sales  JP_sales  Other_sales  Critic_Score User_Score Rating  \n",
       "0     41.36     28.96      3.77         8.45          76.0          8      E  \n",
       "1     29.08      3.58      6.81         0.77           NaN        NaN    NaN  \n",
       "2     15.68     12.76      3.79         3.29          82.0        8.3      E  \n",
       "3     15.61     10.93      3.28         2.95          80.0          8      E  \n",
       "4     11.27      8.89     10.22         1.00           NaN        NaN    NaN  \n",
       "5     23.20      2.26      4.22         0.58           NaN        NaN    NaN  \n",
       "6     11.28      9.14      6.50         2.88          89.0        8.5      E  \n",
       "7     13.96      9.18      2.93         2.84          58.0        6.6      E  \n",
       "8     14.44      6.94      4.70         2.24          87.0        8.4      E  \n",
       "9     26.93      0.63      0.28         0.47           NaN        NaN    NaN  "
      ]
     },
     "execution_count": 4,
     "metadata": {},
     "output_type": "execute_result"
    }
   ],
   "source": [
    "# Muestra de los datos\n",
    "games.head(10)"
   ]
  },
  {
   "cell_type": "markdown",
   "metadata": {},
   "source": [
    "El dataset games contiene los siguientes campos:\n",
    "- `Name` — nombre del juego\n",
    "- `Platform` — plataforma\n",
    "- `Year_of_Release `— año de lanzamiento\n",
    "- `Genre ` — género del juego\n",
    "- `NA_sales ` — ventas en Norteamérica en millones de dólares estadounidenses\n",
    "- `EU_sales ` — ventas en Europa en millones de dólares estadounidenses\n",
    "- `JP_sales ` — ventas en Japón en millones de dólares estadounidenses\n",
    "- `Other_sales ` — ventas en otros países en millones de dólares estadounidenses\n",
    "- `Critic_Score ` — puntuación crítica (máximo de 100) \n",
    "- `User_Score ` — puntuación de usuario (máximo de 10) \n",
    "- `Rating` — Clasificación (ESRB Junta de clasificación de software de entretenimiento)\n",
    "\n",
    "\n",
    "Tenemos un conjunto de datos conformado por 11 columnas, en algunas se necesita ajustar su tipo de dato, las columnas Name, Year_of_Release, Genre, Critic_Score,User_Score y Rating tienen valores asusentes, tiene 16715 filas y los nombres de las columnas tienen letras mayúsculas."
   ]
  },
  {
   "cell_type": "markdown",
   "metadata": {},
   "source": [
    " ### Conclusiones y siguientes pasos <a id='pasos'></a>\n"
   ]
  },
  {
   "cell_type": "markdown",
   "metadata": {},
   "source": [
    "En vista que los datos presentan algunos problemas que deben ser tratados, lo primero que se hará es modificar los nombres de las columnas para que solo contengan letras minúsculas, se ajustarán los tipos de datos de las columnas Year_of_Release al tipo Datetime y User_Score a float y se procede a estudiar los valores ausentes para determinar que hacer con ellos."
   ]
  },
  {
   "cell_type": "markdown",
   "metadata": {},
   "source": [
    "## Preparar los datos <a id='preparar'></a>"
   ]
  },
  {
   "cell_type": "markdown",
   "metadata": {},
   "source": [
    "### Reenombrar las columnas <a id='reenombrar'></a>"
   ]
  },
  {
   "cell_type": "code",
   "execution_count": 5,
   "metadata": {},
   "outputs": [
    {
     "name": "stdout",
     "output_type": "stream",
     "text": [
      "<class 'pandas.core.frame.DataFrame'>\n",
      "RangeIndex: 16715 entries, 0 to 16714\n",
      "Data columns (total 11 columns):\n",
      " #   Column           Non-Null Count  Dtype  \n",
      "---  ------           --------------  -----  \n",
      " 0   name             16713 non-null  object \n",
      " 1   platform         16715 non-null  object \n",
      " 2   year_of_release  16446 non-null  float64\n",
      " 3   genre            16713 non-null  object \n",
      " 4   na_sales         16715 non-null  float64\n",
      " 5   eu_sales         16715 non-null  float64\n",
      " 6   jp_sales         16715 non-null  float64\n",
      " 7   other_sales      16715 non-null  float64\n",
      " 8   critic_score     8137 non-null   float64\n",
      " 9   user_score       10014 non-null  object \n",
      " 10  rating           9949 non-null   object \n",
      "dtypes: float64(6), object(5)\n",
      "memory usage: 1.4+ MB\n"
     ]
    }
   ],
   "source": [
    "games.columns=['name','platform','year_of_release','genre','na_sales','eu_sales','jp_sales','other_sales',\n",
    "               'critic_score','user_score','rating']\n",
    "games.info()"
   ]
  },
  {
   "cell_type": "markdown",
   "metadata": {},
   "source": [
    "### Tratar los valores ausentes <a id='ausentes'></a>"
   ]
  },
  {
   "cell_type": "code",
   "execution_count": 6,
   "metadata": {},
   "outputs": [
    {
     "data": {
      "text/plain": [
       "name                  2\n",
       "platform              0\n",
       "year_of_release     269\n",
       "genre                 2\n",
       "na_sales              0\n",
       "eu_sales              0\n",
       "jp_sales              0\n",
       "other_sales           0\n",
       "critic_score       8578\n",
       "user_score         6701\n",
       "rating             6766\n",
       "dtype: int64"
      ]
     },
     "execution_count": 6,
     "metadata": {},
     "output_type": "execute_result"
    }
   ],
   "source": [
    "# estudiar valores ausentes\n",
    "games.isnull().sum()"
   ]
  },
  {
   "cell_type": "code",
   "execution_count": 7,
   "metadata": {},
   "outputs": [],
   "source": [
    "#Reemplazar valores ausentes en 'Name'\n",
    "games.fillna({'name': 'No disponible'}, inplace=True)\n",
    "\n",
    "#Reemplazar valores ausentes en 'genre'\n",
    "games.fillna({'genre': 'No disponible'}, inplace=True)\n",
    "\n",
    "#Reemplazar valores ausentes en 'rating'\n",
    "games.fillna({'rating': 'TBD'}, inplace=True)"
   ]
  },
  {
   "cell_type": "markdown",
   "metadata": {},
   "source": [
    "Al no poder calcular medias y medianas de la variable 'name' y 'genre' se decide reemplazarlos por 'No disponible', de esta manera no se afectan los valores del resto de los datos, en la columna rating se colocará TBD que es la abreviatura de 'a determinar' ya que aún no contamos con la clasificación de estos videojuegos. "
   ]
  },
  {
   "cell_type": "code",
   "execution_count": 8,
   "metadata": {},
   "outputs": [],
   "source": [
    "#Reemplazar 'tbd' en la columna 'user_score' con 0\n",
    "games['user_score']= games['user_score'].replace('tbd',0)\n",
    "#Cambiar tipo de dato de 'user_score' para poder realizar calculos de medias y medianas. \n",
    "games['user_score'] = games['user_score'].astype('float')\n",
    "                                                            "
   ]
  },
  {
   "cell_type": "code",
   "execution_count": 9,
   "metadata": {},
   "outputs": [],
   "source": [
    "# Eliminar filas con valores ausentes en 'year_of_release'\n",
    "games= games.dropna(subset = [\"year_of_release\"], axis=0)"
   ]
  },
  {
   "cell_type": "markdown",
   "metadata": {},
   "source": [
    "En la columna 'year_of_release' se decide eliminar las filas que tienen valores ausentes ya que son pocos datos y no causarán ningun impacto en el analisis del conjunto total de datos."
   ]
  },
  {
   "cell_type": "markdown",
   "metadata": {},
   "source": [
    "En las columnas 'critic_score' y 'user_score' se decide dejarlos como están así afectamos lo menos posible el conjunto de datos. "
   ]
  },
  {
   "cell_type": "code",
   "execution_count": 10,
   "metadata": {},
   "outputs": [
    {
     "name": "stdout",
     "output_type": "stream",
     "text": [
      "<class 'pandas.core.frame.DataFrame'>\n",
      "Int64Index: 16446 entries, 0 to 16714\n",
      "Data columns (total 11 columns):\n",
      " #   Column           Non-Null Count  Dtype  \n",
      "---  ------           --------------  -----  \n",
      " 0   name             16446 non-null  object \n",
      " 1   platform         16446 non-null  object \n",
      " 2   year_of_release  16446 non-null  float64\n",
      " 3   genre            16446 non-null  object \n",
      " 4   na_sales         16446 non-null  float64\n",
      " 5   eu_sales         16446 non-null  float64\n",
      " 6   jp_sales         16446 non-null  float64\n",
      " 7   other_sales      16446 non-null  float64\n",
      " 8   critic_score     7983 non-null   float64\n",
      " 9   user_score       9839 non-null   float64\n",
      " 10  rating           16446 non-null  object \n",
      "dtypes: float64(7), object(4)\n",
      "memory usage: 1.5+ MB\n"
     ]
    }
   ],
   "source": [
    "games.info()"
   ]
  },
  {
   "cell_type": "code",
   "execution_count": 11,
   "metadata": {},
   "outputs": [
    {
     "data": {
      "text/plain": [
       "name                  0\n",
       "platform              0\n",
       "year_of_release       0\n",
       "genre                 0\n",
       "na_sales              0\n",
       "eu_sales              0\n",
       "jp_sales              0\n",
       "other_sales           0\n",
       "critic_score       8463\n",
       "user_score         6607\n",
       "rating                0\n",
       "dtype: int64"
      ]
     },
     "execution_count": 11,
     "metadata": {},
     "output_type": "execute_result"
    }
   ],
   "source": [
    "# actualizar valores ausentes\n",
    "games.isnull().sum()"
   ]
  },
  {
   "cell_type": "code",
   "execution_count": 12,
   "metadata": {},
   "outputs": [
    {
     "data": {
      "text/html": [
       "<div>\n",
       "<style scoped>\n",
       "    .dataframe tbody tr th:only-of-type {\n",
       "        vertical-align: middle;\n",
       "    }\n",
       "\n",
       "    .dataframe tbody tr th {\n",
       "        vertical-align: top;\n",
       "    }\n",
       "\n",
       "    .dataframe thead th {\n",
       "        text-align: right;\n",
       "    }\n",
       "</style>\n",
       "<table border=\"1\" class=\"dataframe\">\n",
       "  <thead>\n",
       "    <tr style=\"text-align: right;\">\n",
       "      <th></th>\n",
       "      <th>name</th>\n",
       "      <th>platform</th>\n",
       "      <th>year_of_release</th>\n",
       "      <th>genre</th>\n",
       "      <th>na_sales</th>\n",
       "      <th>eu_sales</th>\n",
       "      <th>jp_sales</th>\n",
       "      <th>other_sales</th>\n",
       "      <th>critic_score</th>\n",
       "      <th>user_score</th>\n",
       "      <th>rating</th>\n",
       "    </tr>\n",
       "  </thead>\n",
       "  <tbody>\n",
       "    <tr>\n",
       "      <th>0</th>\n",
       "      <td>Wii Sports</td>\n",
       "      <td>Wii</td>\n",
       "      <td>2006.0</td>\n",
       "      <td>Sports</td>\n",
       "      <td>41.36</td>\n",
       "      <td>28.96</td>\n",
       "      <td>3.77</td>\n",
       "      <td>8.45</td>\n",
       "      <td>76.0</td>\n",
       "      <td>8.0</td>\n",
       "      <td>E</td>\n",
       "    </tr>\n",
       "    <tr>\n",
       "      <th>1</th>\n",
       "      <td>Super Mario Bros.</td>\n",
       "      <td>NES</td>\n",
       "      <td>1985.0</td>\n",
       "      <td>Platform</td>\n",
       "      <td>29.08</td>\n",
       "      <td>3.58</td>\n",
       "      <td>6.81</td>\n",
       "      <td>0.77</td>\n",
       "      <td>NaN</td>\n",
       "      <td>NaN</td>\n",
       "      <td>TBD</td>\n",
       "    </tr>\n",
       "    <tr>\n",
       "      <th>2</th>\n",
       "      <td>Mario Kart Wii</td>\n",
       "      <td>Wii</td>\n",
       "      <td>2008.0</td>\n",
       "      <td>Racing</td>\n",
       "      <td>15.68</td>\n",
       "      <td>12.76</td>\n",
       "      <td>3.79</td>\n",
       "      <td>3.29</td>\n",
       "      <td>82.0</td>\n",
       "      <td>8.3</td>\n",
       "      <td>E</td>\n",
       "    </tr>\n",
       "    <tr>\n",
       "      <th>3</th>\n",
       "      <td>Wii Sports Resort</td>\n",
       "      <td>Wii</td>\n",
       "      <td>2009.0</td>\n",
       "      <td>Sports</td>\n",
       "      <td>15.61</td>\n",
       "      <td>10.93</td>\n",
       "      <td>3.28</td>\n",
       "      <td>2.95</td>\n",
       "      <td>80.0</td>\n",
       "      <td>8.0</td>\n",
       "      <td>E</td>\n",
       "    </tr>\n",
       "    <tr>\n",
       "      <th>4</th>\n",
       "      <td>Pokemon Red/Pokemon Blue</td>\n",
       "      <td>GB</td>\n",
       "      <td>1996.0</td>\n",
       "      <td>Role-Playing</td>\n",
       "      <td>11.27</td>\n",
       "      <td>8.89</td>\n",
       "      <td>10.22</td>\n",
       "      <td>1.00</td>\n",
       "      <td>NaN</td>\n",
       "      <td>NaN</td>\n",
       "      <td>TBD</td>\n",
       "    </tr>\n",
       "    <tr>\n",
       "      <th>5</th>\n",
       "      <td>Tetris</td>\n",
       "      <td>GB</td>\n",
       "      <td>1989.0</td>\n",
       "      <td>Puzzle</td>\n",
       "      <td>23.20</td>\n",
       "      <td>2.26</td>\n",
       "      <td>4.22</td>\n",
       "      <td>0.58</td>\n",
       "      <td>NaN</td>\n",
       "      <td>NaN</td>\n",
       "      <td>TBD</td>\n",
       "    </tr>\n",
       "    <tr>\n",
       "      <th>6</th>\n",
       "      <td>New Super Mario Bros.</td>\n",
       "      <td>DS</td>\n",
       "      <td>2006.0</td>\n",
       "      <td>Platform</td>\n",
       "      <td>11.28</td>\n",
       "      <td>9.14</td>\n",
       "      <td>6.50</td>\n",
       "      <td>2.88</td>\n",
       "      <td>89.0</td>\n",
       "      <td>8.5</td>\n",
       "      <td>E</td>\n",
       "    </tr>\n",
       "    <tr>\n",
       "      <th>7</th>\n",
       "      <td>Wii Play</td>\n",
       "      <td>Wii</td>\n",
       "      <td>2006.0</td>\n",
       "      <td>Misc</td>\n",
       "      <td>13.96</td>\n",
       "      <td>9.18</td>\n",
       "      <td>2.93</td>\n",
       "      <td>2.84</td>\n",
       "      <td>58.0</td>\n",
       "      <td>6.6</td>\n",
       "      <td>E</td>\n",
       "    </tr>\n",
       "    <tr>\n",
       "      <th>8</th>\n",
       "      <td>New Super Mario Bros. Wii</td>\n",
       "      <td>Wii</td>\n",
       "      <td>2009.0</td>\n",
       "      <td>Platform</td>\n",
       "      <td>14.44</td>\n",
       "      <td>6.94</td>\n",
       "      <td>4.70</td>\n",
       "      <td>2.24</td>\n",
       "      <td>87.0</td>\n",
       "      <td>8.4</td>\n",
       "      <td>E</td>\n",
       "    </tr>\n",
       "    <tr>\n",
       "      <th>9</th>\n",
       "      <td>Duck Hunt</td>\n",
       "      <td>NES</td>\n",
       "      <td>1984.0</td>\n",
       "      <td>Shooter</td>\n",
       "      <td>26.93</td>\n",
       "      <td>0.63</td>\n",
       "      <td>0.28</td>\n",
       "      <td>0.47</td>\n",
       "      <td>NaN</td>\n",
       "      <td>NaN</td>\n",
       "      <td>TBD</td>\n",
       "    </tr>\n",
       "  </tbody>\n",
       "</table>\n",
       "</div>"
      ],
      "text/plain": [
       "                        name platform  year_of_release         genre  \\\n",
       "0                 Wii Sports      Wii           2006.0        Sports   \n",
       "1          Super Mario Bros.      NES           1985.0      Platform   \n",
       "2             Mario Kart Wii      Wii           2008.0        Racing   \n",
       "3          Wii Sports Resort      Wii           2009.0        Sports   \n",
       "4   Pokemon Red/Pokemon Blue       GB           1996.0  Role-Playing   \n",
       "5                     Tetris       GB           1989.0        Puzzle   \n",
       "6      New Super Mario Bros.       DS           2006.0      Platform   \n",
       "7                   Wii Play      Wii           2006.0          Misc   \n",
       "8  New Super Mario Bros. Wii      Wii           2009.0      Platform   \n",
       "9                  Duck Hunt      NES           1984.0       Shooter   \n",
       "\n",
       "   na_sales  eu_sales  jp_sales  other_sales  critic_score  user_score rating  \n",
       "0     41.36     28.96      3.77         8.45          76.0         8.0      E  \n",
       "1     29.08      3.58      6.81         0.77           NaN         NaN    TBD  \n",
       "2     15.68     12.76      3.79         3.29          82.0         8.3      E  \n",
       "3     15.61     10.93      3.28         2.95          80.0         8.0      E  \n",
       "4     11.27      8.89     10.22         1.00           NaN         NaN    TBD  \n",
       "5     23.20      2.26      4.22         0.58           NaN         NaN    TBD  \n",
       "6     11.28      9.14      6.50         2.88          89.0         8.5      E  \n",
       "7     13.96      9.18      2.93         2.84          58.0         6.6      E  \n",
       "8     14.44      6.94      4.70         2.24          87.0         8.4      E  \n",
       "9     26.93      0.63      0.28         0.47           NaN         NaN    TBD  "
      ]
     },
     "execution_count": 12,
     "metadata": {},
     "output_type": "execute_result"
    }
   ],
   "source": [
    "# Comprobar la tabla con los valores ausentes reemplazados\n",
    "games.head(10)"
   ]
  },
  {
   "cell_type": "markdown",
   "metadata": {},
   "source": [
    "### Corregir los tipos de datos <a id='corregir'></a>"
   ]
  },
  {
   "cell_type": "code",
   "execution_count": 13,
   "metadata": {},
   "outputs": [],
   "source": [
    "# cambiar tipos de datos\n",
    "\n",
    "games['year_of_release'] = pd.to_datetime(games['year_of_release'], format='%Y')\n",
    "games['year_of_release']= pd.DatetimeIndex(games['year_of_release']).year"
   ]
  },
  {
   "cell_type": "code",
   "execution_count": 14,
   "metadata": {},
   "outputs": [
    {
     "name": "stdout",
     "output_type": "stream",
     "text": [
      "<class 'pandas.core.frame.DataFrame'>\n",
      "Int64Index: 16446 entries, 0 to 16714\n",
      "Data columns (total 11 columns):\n",
      " #   Column           Non-Null Count  Dtype  \n",
      "---  ------           --------------  -----  \n",
      " 0   name             16446 non-null  object \n",
      " 1   platform         16446 non-null  object \n",
      " 2   year_of_release  16446 non-null  int64  \n",
      " 3   genre            16446 non-null  object \n",
      " 4   na_sales         16446 non-null  float64\n",
      " 5   eu_sales         16446 non-null  float64\n",
      " 6   jp_sales         16446 non-null  float64\n",
      " 7   other_sales      16446 non-null  float64\n",
      " 8   critic_score     7983 non-null   float64\n",
      " 9   user_score       9839 non-null   float64\n",
      " 10  rating           16446 non-null  object \n",
      "dtypes: float64(6), int64(1), object(4)\n",
      "memory usage: 1.5+ MB\n"
     ]
    }
   ],
   "source": [
    "# actualizar información general\n",
    "games.info()"
   ]
  },
  {
   "cell_type": "code",
   "execution_count": 15,
   "metadata": {},
   "outputs": [
    {
     "data": {
      "text/html": [
       "<div>\n",
       "<style scoped>\n",
       "    .dataframe tbody tr th:only-of-type {\n",
       "        vertical-align: middle;\n",
       "    }\n",
       "\n",
       "    .dataframe tbody tr th {\n",
       "        vertical-align: top;\n",
       "    }\n",
       "\n",
       "    .dataframe thead th {\n",
       "        text-align: right;\n",
       "    }\n",
       "</style>\n",
       "<table border=\"1\" class=\"dataframe\">\n",
       "  <thead>\n",
       "    <tr style=\"text-align: right;\">\n",
       "      <th></th>\n",
       "      <th>name</th>\n",
       "      <th>platform</th>\n",
       "      <th>year_of_release</th>\n",
       "      <th>genre</th>\n",
       "      <th>na_sales</th>\n",
       "      <th>eu_sales</th>\n",
       "      <th>jp_sales</th>\n",
       "      <th>other_sales</th>\n",
       "      <th>critic_score</th>\n",
       "      <th>user_score</th>\n",
       "      <th>rating</th>\n",
       "    </tr>\n",
       "  </thead>\n",
       "  <tbody>\n",
       "    <tr>\n",
       "      <th>0</th>\n",
       "      <td>Wii Sports</td>\n",
       "      <td>Wii</td>\n",
       "      <td>2006</td>\n",
       "      <td>Sports</td>\n",
       "      <td>41.36</td>\n",
       "      <td>28.96</td>\n",
       "      <td>3.77</td>\n",
       "      <td>8.45</td>\n",
       "      <td>76.0</td>\n",
       "      <td>8.0</td>\n",
       "      <td>E</td>\n",
       "    </tr>\n",
       "    <tr>\n",
       "      <th>1</th>\n",
       "      <td>Super Mario Bros.</td>\n",
       "      <td>NES</td>\n",
       "      <td>1985</td>\n",
       "      <td>Platform</td>\n",
       "      <td>29.08</td>\n",
       "      <td>3.58</td>\n",
       "      <td>6.81</td>\n",
       "      <td>0.77</td>\n",
       "      <td>NaN</td>\n",
       "      <td>NaN</td>\n",
       "      <td>TBD</td>\n",
       "    </tr>\n",
       "    <tr>\n",
       "      <th>2</th>\n",
       "      <td>Mario Kart Wii</td>\n",
       "      <td>Wii</td>\n",
       "      <td>2008</td>\n",
       "      <td>Racing</td>\n",
       "      <td>15.68</td>\n",
       "      <td>12.76</td>\n",
       "      <td>3.79</td>\n",
       "      <td>3.29</td>\n",
       "      <td>82.0</td>\n",
       "      <td>8.3</td>\n",
       "      <td>E</td>\n",
       "    </tr>\n",
       "    <tr>\n",
       "      <th>3</th>\n",
       "      <td>Wii Sports Resort</td>\n",
       "      <td>Wii</td>\n",
       "      <td>2009</td>\n",
       "      <td>Sports</td>\n",
       "      <td>15.61</td>\n",
       "      <td>10.93</td>\n",
       "      <td>3.28</td>\n",
       "      <td>2.95</td>\n",
       "      <td>80.0</td>\n",
       "      <td>8.0</td>\n",
       "      <td>E</td>\n",
       "    </tr>\n",
       "    <tr>\n",
       "      <th>4</th>\n",
       "      <td>Pokemon Red/Pokemon Blue</td>\n",
       "      <td>GB</td>\n",
       "      <td>1996</td>\n",
       "      <td>Role-Playing</td>\n",
       "      <td>11.27</td>\n",
       "      <td>8.89</td>\n",
       "      <td>10.22</td>\n",
       "      <td>1.00</td>\n",
       "      <td>NaN</td>\n",
       "      <td>NaN</td>\n",
       "      <td>TBD</td>\n",
       "    </tr>\n",
       "  </tbody>\n",
       "</table>\n",
       "</div>"
      ],
      "text/plain": [
       "                       name platform  year_of_release         genre  na_sales  \\\n",
       "0                Wii Sports      Wii             2006        Sports     41.36   \n",
       "1         Super Mario Bros.      NES             1985      Platform     29.08   \n",
       "2            Mario Kart Wii      Wii             2008        Racing     15.68   \n",
       "3         Wii Sports Resort      Wii             2009        Sports     15.61   \n",
       "4  Pokemon Red/Pokemon Blue       GB             1996  Role-Playing     11.27   \n",
       "\n",
       "   eu_sales  jp_sales  other_sales  critic_score  user_score rating  \n",
       "0     28.96      3.77         8.45          76.0         8.0      E  \n",
       "1      3.58      6.81         0.77           NaN         NaN    TBD  \n",
       "2     12.76      3.79         3.29          82.0         8.3      E  \n",
       "3     10.93      3.28         2.95          80.0         8.0      E  \n",
       "4      8.89     10.22         1.00           NaN         NaN    TBD  "
      ]
     },
     "execution_count": 15,
     "metadata": {},
     "output_type": "execute_result"
    }
   ],
   "source": [
    "# comprobar datos limpios\n",
    "games.head()"
   ]
  },
  {
   "cell_type": "markdown",
   "metadata": {},
   "source": [
    "### Enriquecer datos <a id='enriquecer'></a>"
   ]
  },
  {
   "cell_type": "code",
   "execution_count": 16,
   "metadata": {},
   "outputs": [
    {
     "data": {
      "text/html": [
       "<div>\n",
       "<style scoped>\n",
       "    .dataframe tbody tr th:only-of-type {\n",
       "        vertical-align: middle;\n",
       "    }\n",
       "\n",
       "    .dataframe tbody tr th {\n",
       "        vertical-align: top;\n",
       "    }\n",
       "\n",
       "    .dataframe thead th {\n",
       "        text-align: right;\n",
       "    }\n",
       "</style>\n",
       "<table border=\"1\" class=\"dataframe\">\n",
       "  <thead>\n",
       "    <tr style=\"text-align: right;\">\n",
       "      <th></th>\n",
       "      <th>name</th>\n",
       "      <th>platform</th>\n",
       "      <th>year_of_release</th>\n",
       "      <th>genre</th>\n",
       "      <th>na_sales</th>\n",
       "      <th>eu_sales</th>\n",
       "      <th>jp_sales</th>\n",
       "      <th>other_sales</th>\n",
       "      <th>critic_score</th>\n",
       "      <th>user_score</th>\n",
       "      <th>rating</th>\n",
       "      <th>total_sales</th>\n",
       "    </tr>\n",
       "  </thead>\n",
       "  <tbody>\n",
       "    <tr>\n",
       "      <th>0</th>\n",
       "      <td>Wii Sports</td>\n",
       "      <td>Wii</td>\n",
       "      <td>2006</td>\n",
       "      <td>Sports</td>\n",
       "      <td>41.36</td>\n",
       "      <td>28.96</td>\n",
       "      <td>3.77</td>\n",
       "      <td>8.45</td>\n",
       "      <td>76.0</td>\n",
       "      <td>8.0</td>\n",
       "      <td>E</td>\n",
       "      <td>82.54</td>\n",
       "    </tr>\n",
       "    <tr>\n",
       "      <th>1</th>\n",
       "      <td>Super Mario Bros.</td>\n",
       "      <td>NES</td>\n",
       "      <td>1985</td>\n",
       "      <td>Platform</td>\n",
       "      <td>29.08</td>\n",
       "      <td>3.58</td>\n",
       "      <td>6.81</td>\n",
       "      <td>0.77</td>\n",
       "      <td>NaN</td>\n",
       "      <td>NaN</td>\n",
       "      <td>TBD</td>\n",
       "      <td>40.24</td>\n",
       "    </tr>\n",
       "    <tr>\n",
       "      <th>2</th>\n",
       "      <td>Mario Kart Wii</td>\n",
       "      <td>Wii</td>\n",
       "      <td>2008</td>\n",
       "      <td>Racing</td>\n",
       "      <td>15.68</td>\n",
       "      <td>12.76</td>\n",
       "      <td>3.79</td>\n",
       "      <td>3.29</td>\n",
       "      <td>82.0</td>\n",
       "      <td>8.3</td>\n",
       "      <td>E</td>\n",
       "      <td>35.52</td>\n",
       "    </tr>\n",
       "    <tr>\n",
       "      <th>3</th>\n",
       "      <td>Wii Sports Resort</td>\n",
       "      <td>Wii</td>\n",
       "      <td>2009</td>\n",
       "      <td>Sports</td>\n",
       "      <td>15.61</td>\n",
       "      <td>10.93</td>\n",
       "      <td>3.28</td>\n",
       "      <td>2.95</td>\n",
       "      <td>80.0</td>\n",
       "      <td>8.0</td>\n",
       "      <td>E</td>\n",
       "      <td>32.77</td>\n",
       "    </tr>\n",
       "    <tr>\n",
       "      <th>4</th>\n",
       "      <td>Pokemon Red/Pokemon Blue</td>\n",
       "      <td>GB</td>\n",
       "      <td>1996</td>\n",
       "      <td>Role-Playing</td>\n",
       "      <td>11.27</td>\n",
       "      <td>8.89</td>\n",
       "      <td>10.22</td>\n",
       "      <td>1.00</td>\n",
       "      <td>NaN</td>\n",
       "      <td>NaN</td>\n",
       "      <td>TBD</td>\n",
       "      <td>31.38</td>\n",
       "    </tr>\n",
       "  </tbody>\n",
       "</table>\n",
       "</div>"
      ],
      "text/plain": [
       "                       name platform  year_of_release         genre  na_sales  \\\n",
       "0                Wii Sports      Wii             2006        Sports     41.36   \n",
       "1         Super Mario Bros.      NES             1985      Platform     29.08   \n",
       "2            Mario Kart Wii      Wii             2008        Racing     15.68   \n",
       "3         Wii Sports Resort      Wii             2009        Sports     15.61   \n",
       "4  Pokemon Red/Pokemon Blue       GB             1996  Role-Playing     11.27   \n",
       "\n",
       "   eu_sales  jp_sales  other_sales  critic_score  user_score rating  \\\n",
       "0     28.96      3.77         8.45          76.0         8.0      E   \n",
       "1      3.58      6.81         0.77           NaN         NaN    TBD   \n",
       "2     12.76      3.79         3.29          82.0         8.3      E   \n",
       "3     10.93      3.28         2.95          80.0         8.0      E   \n",
       "4      8.89     10.22         1.00           NaN         NaN    TBD   \n",
       "\n",
       "   total_sales  \n",
       "0        82.54  \n",
       "1        40.24  \n",
       "2        35.52  \n",
       "3        32.77  \n",
       "4        31.38  "
      ]
     },
     "execution_count": 16,
     "metadata": {},
     "output_type": "execute_result"
    }
   ],
   "source": [
    "# Agregar las ventas totales (la suma de las ventas en todas las regiones)\n",
    "\n",
    "games['total_sales'] = games['na_sales'] + games['eu_sales'] + games['jp_sales'] + games['other_sales']\n",
    "games.head()\n"
   ]
  },
  {
   "cell_type": "markdown",
   "metadata": {},
   "source": [
    "## Analizar los datos <a id='analizar'></a>"
   ]
  },
  {
   "cell_type": "code",
   "execution_count": 17,
   "metadata": {},
   "outputs": [
    {
     "data": {
      "image/png": "[encoded data removed]",
      "text/plain": [
       "<Figure size 1152x504 with 1 Axes>"
      ]
     },
     "metadata": {
      "needs_background": "light"
     },
     "output_type": "display_data"
    }
   ],
   "source": [
    "# Cantidad de juegos lanzados en diferentes años\n",
    "total_year_release= games.groupby('year_of_release')['year_of_release'].count()\n",
    "total_year_release.plot(kind='bar',title= 'Cantidad de juegos lanzados por años',color='green',\n",
    "                               grid=True,figsize=(16,7))\n",
    "plt.ylabel('Cantidad de Juegos lanzados')\n",
    "plt.xlabel('Año del Lanzamiento')\n",
    "plt.show()"
   ]
  },
  {
   "cell_type": "markdown",
   "metadata": {},
   "source": [
    "En el período entre 1980 y 2016 se puede observar que es a partir de 1993 cuando empiezan a aumentar significativamente el lanzamiento de videojuegos, pero no es hasta el 2005 donde se puede ver un aumento constante y significativo y es en 2008 y 2009 donde se encuentra  el mayor pico en los 1400, a partir de ahí los lanzamientos comienzan a bajar considerablente y se encuentran entre los 500 y 600 lanzamientos."
   ]
  },
  {
   "cell_type": "code",
   "execution_count": 18,
   "metadata": {},
   "outputs": [
    {
     "data": {
      "image/png": "[encoded data removed]",
      "text/plain": [
       "<Figure size 1152x504 with 1 Axes>"
      ]
     },
     "metadata": {
      "needs_background": "light"
     },
     "output_type": "display_data"
    }
   ],
   "source": [
    "# Calcular las ventas cada plataforma. \n",
    "\n",
    "total_sales_platform= games.groupby('platform')['total_sales'].sum().sort_values(ascending=False)\n",
    "total_sales_platform.plot(kind='bar',title= 'Ventas de cada plataforma',color='green',\n",
    "                               grid=True,figsize=(16,7))\n",
    "plt.ylabel('Ventas (Millones de dólares estadounidenses)')\n",
    "plt.xlabel('Nombre de la plataforma')\n",
    "plt.show()"
   ]
  },
  {
   "cell_type": "markdown",
   "metadata": {},
   "source": [
    "Se puede observar que las plataformas con más ventas son: PS2, X360, PS3, Wii y las que tuvieron unas ventas con valores medios son:DS, PS, PS4, GBA, PSP, 3DS, PC, GB, XB, NES, N64, SNES, GC, XOne, 2600, WiiU y por el contrario las de menor ventas son:PSV, SAT, GEN, DC, SCD, NG, WS, TG16, 3DO, GG y PCFX. \n",
    "\n",
    "Por lo que se seleccionan las plataformas de  PS2, X360, PS3 y Wii para el análisis, ya que son las que tienen una mayor cantidad de ventas. \n"
   ]
  },
  {
   "cell_type": "markdown",
   "metadata": {},
   "source": [
    "### Ventas PS2 <a id='ps2'></a>"
   ]
  },
  {
   "cell_type": "code",
   "execution_count": 19,
   "metadata": {},
   "outputs": [
    {
     "data": {
      "text/plain": [
       "count    2127.000000\n",
       "mean     2004.583921\n",
       "std         2.567689\n",
       "min      2000.000000\n",
       "25%      2002.000000\n",
       "50%      2005.000000\n",
       "75%      2007.000000\n",
       "max      2011.000000\n",
       "Name: year_of_release, dtype: float64"
      ]
     },
     "execution_count": 19,
     "metadata": {},
     "output_type": "execute_result"
    }
   ],
   "source": [
    "#Subconjunto con las plataformas con mayores ventas\n",
    "sub_ventas_mayores= games.query('platform == \"PS2\" | platform == \"X360\" | platform == \"PS3\" | platform == \"Wii\" | platform == \"DS\" | platform == \"PS\"')\n",
    "\n",
    "#Ventas PS2\n",
    "\n",
    "sub_ventas= sub_ventas_mayores[['platform', 'year_of_release','total_sales']]\n",
    "sub_ventas_ps2= sub_ventas.query('platform == \"PS2\"')\n",
    "sub_ventas_ps2['year_of_release'].describe()\n"
   ]
  },
  {
   "cell_type": "code",
   "execution_count": 20,
   "metadata": {},
   "outputs": [
    {
     "data": {
      "image/png": "[encoded data removed]",
      "text/plain": [
       "<Figure size 432x288 with 1 Axes>"
      ]
     },
     "metadata": {
      "needs_background": "light"
     },
     "output_type": "display_data"
    }
   ],
   "source": [
    "sub_ventas_ps2.hist('year_of_release', bins=50, color= 'green')\n",
    "plt.title('Histograma de ventas PS2 a lo largo de los años')\n",
    "plt.xlabel('Años donde se registraron ventas')\n",
    "plt.ylabel('Frecuencias')\n",
    "plt.show()"
   ]
  },
  {
   "cell_type": "markdown",
   "metadata": {},
   "source": [
    "A lo largo del período que va desde 1980 hasta el 2016 podemos observar que se registran ventas a partir del año 2000 que es precisamente el año de lanzamiento de la consola de PS2, pero es en 2002 cuando se registra la mayor cantidad de ventas, luego se mantiene estable por encima de 250 hasta el 2006 y ahí empiezan a caer las ventas y ya para el 2010 las ventas fueron bastante bajas. "
   ]
  },
  {
   "cell_type": "markdown",
   "metadata": {},
   "source": [
    "### Ventas X360 <a id='x360'></a>"
   ]
  },
  {
   "cell_type": "code",
   "execution_count": 21,
   "metadata": {},
   "outputs": [
    {
     "data": {
      "text/plain": [
       "count    1232.000000\n",
       "mean     2009.880682\n",
       "std         2.458339\n",
       "min      2005.000000\n",
       "25%      2008.000000\n",
       "50%      2010.000000\n",
       "75%      2011.000000\n",
       "max      2016.000000\n",
       "Name: year_of_release, dtype: float64"
      ]
     },
     "execution_count": 21,
     "metadata": {},
     "output_type": "execute_result"
    }
   ],
   "source": [
    "#Ventas X360\n",
    "\n",
    "sub_ventas= sub_ventas_mayores[['platform', 'year_of_release','total_sales']]\n",
    "sub_ventas_x360= sub_ventas.query('platform == \"X360\"')\n",
    "sub_ventas_x360['year_of_release'].describe()\n"
   ]
  },
  {
   "cell_type": "code",
   "execution_count": 22,
   "metadata": {},
   "outputs": [
    {
     "data": {
      "image/png": "[encoded data removed]",
      "text/plain": [
       "<Figure size 432x288 with 1 Axes>"
      ]
     },
     "metadata": {
      "needs_background": "light"
     },
     "output_type": "display_data"
    }
   ],
   "source": [
    "sub_ventas_x360.hist('year_of_release', bins=50,color= 'green')\n",
    "plt.title('Histograma de ventas X360 a lo largo de los años')\n",
    "plt.xlabel('Años donde se registraron ventas')\n",
    "plt.ylabel('Frecuencias')\n",
    "plt.show()\n"
   ]
  },
  {
   "cell_type": "markdown",
   "metadata": {},
   "source": [
    "A lo largo del período que va desde 1980 hasta el 2016 podemos observar que se registran ventas a partir del año 2005 que es precisamente el año de lanzamiento de la consola X360, a partir de ahí las ventas fueron en ascenso hasta el 2011 cuando se registran la mayor cantidad de ventas, a partir de 2012 las ventas empiezan a caer hasta el 2016 donde se registran los valores mínimos. "
   ]
  },
  {
   "cell_type": "markdown",
   "metadata": {},
   "source": [
    "### Ventas PS3 <a id='ps3'></a>"
   ]
  },
  {
   "cell_type": "code",
   "execution_count": 23,
   "metadata": {},
   "outputs": [
    {
     "data": {
      "text/plain": [
       "count    1306.000000\n",
       "mean     2010.840735\n",
       "std         2.459616\n",
       "min      2006.000000\n",
       "25%      2009.000000\n",
       "50%      2011.000000\n",
       "75%      2013.000000\n",
       "max      2016.000000\n",
       "Name: year_of_release, dtype: float64"
      ]
     },
     "execution_count": 23,
     "metadata": {},
     "output_type": "execute_result"
    }
   ],
   "source": [
    "#Ventas PS3\n",
    "\n",
    "sub_ventas= sub_ventas_mayores[['platform', 'year_of_release','total_sales']]\n",
    "sub_ventas_ps3= sub_ventas.query('platform == \"PS3\"')\n",
    "sub_ventas_ps3['year_of_release'].describe()"
   ]
  },
  {
   "cell_type": "code",
   "execution_count": 24,
   "metadata": {},
   "outputs": [
    {
     "data": {
      "image/png": "[encoded data removed]",
      "text/plain": [
       "<Figure size 432x288 with 1 Axes>"
      ]
     },
     "metadata": {
      "needs_background": "light"
     },
     "output_type": "display_data"
    }
   ],
   "source": [
    "sub_ventas_ps3.hist('year_of_release', bins=50, color= 'green')\n",
    "plt.title('Histograma de ventas PS3 a lo largo de los años')\n",
    "plt.xlabel('Años donde se registraron ventas')\n",
    "plt.ylabel('Frecuencias')\n",
    "plt.show()"
   ]
  },
  {
   "cell_type": "markdown",
   "metadata": {},
   "source": [
    "A lo largo del período que va desde 1980 hasta el 2016 podemos observar que se registran ventas apartir del 2006 cuando ocurre su lanzamiento oficial, las ventas siguen creciendo a lo largo de los años hasta el 2011 donde se registra el pico más alto de ventas y a partir de 2012 ya las ventas comienzan a caer  pero en 2016 aún se registran ventas. "
   ]
  },
  {
   "cell_type": "markdown",
   "metadata": {},
   "source": [
    "### Ventas Wii <a id='wii'></a>"
   ]
  },
  {
   "cell_type": "code",
   "execution_count": 25,
   "metadata": {},
   "outputs": [
    {
     "data": {
      "text/plain": [
       "count    1286.000000\n",
       "mean     2008.966563\n",
       "std         1.542034\n",
       "min      2006.000000\n",
       "25%      2008.000000\n",
       "50%      2009.000000\n",
       "75%      2010.000000\n",
       "max      2016.000000\n",
       "Name: year_of_release, dtype: float64"
      ]
     },
     "execution_count": 25,
     "metadata": {},
     "output_type": "execute_result"
    }
   ],
   "source": [
    "#Ventas Wii\n",
    "\n",
    "sub_ventas= sub_ventas_mayores[['platform', 'year_of_release','total_sales']]\n",
    "sub_ventas_wii= sub_ventas.query('platform == \"Wii\"')\n",
    "sub_ventas_wii['year_of_release'].describe()"
   ]
  },
  {
   "cell_type": "code",
   "execution_count": 26,
   "metadata": {},
   "outputs": [
    {
     "data": {
      "image/png": "[encoded data removed]",
      "text/plain": [
       "<Figure size 432x288 with 1 Axes>"
      ]
     },
     "metadata": {
      "needs_background": "light"
     },
     "output_type": "display_data"
    }
   ],
   "source": [
    "sub_ventas_wii.hist('year_of_release', bins=50, color= 'green')\n",
    "plt.title('Histograma de ventas Wii a lo largo de los años')\n",
    "plt.xlabel('Años donde se registraron ventas')\n",
    "plt.ylabel('Frecuencias')\n",
    "plt.show()"
   ]
  },
  {
   "cell_type": "markdown",
   "metadata": {},
   "source": [
    "A lo largo del período que va desde 1980 hasta el 2016 podemos observar que se registran ventas a partir del año 2006 luego las ventas siguen creciendo a lo largo de los años hasta el 2009 donde se registra el pico más alto de ventas y a partir de 2010 ya las ventas comienzan a caer considerablemente y ya en 2016 las ventas fueron muy bajas."
   ]
  },
  {
   "cell_type": "code",
   "execution_count": 27,
   "metadata": {},
   "outputs": [
    {
     "data": {
      "text/plain": [
       "count    9262.000000\n",
       "mean     2006.758799\n",
       "std         4.514636\n",
       "min      1985.000000\n",
       "25%      2005.000000\n",
       "50%      2008.000000\n",
       "75%      2010.000000\n",
       "max      2016.000000\n",
       "Name: year_of_release, dtype: float64"
      ]
     },
     "execution_count": 27,
     "metadata": {},
     "output_type": "execute_result"
    }
   ],
   "source": [
    "sub_ventas['year_of_release'].describe()"
   ]
  },
  {
   "cell_type": "code",
   "execution_count": 28,
   "metadata": {},
   "outputs": [
    {
     "name": "stdout",
     "output_type": "stream",
     "text": [
      "Media de año de lanzamiento: 2006.758799395379\n",
      "Varianza de la cantidad de años: 20.379740644491104\n",
      "Desviación estándar de la cantidad de años: 4.514392610805036\n"
     ]
    }
   ],
   "source": [
    "# Calcula la media y la varianza de year_of_release\n",
    "\n",
    "sub_ventas_mean= sub_ventas['year_of_release'].mean()\n",
    "sub_ventas_variance= np.var(sub_ventas['year_of_release'])\n",
    "sub_ventas_std= np.sqrt(sub_ventas_variance)\n",
    "print((f'Media de año de lanzamiento: {sub_ventas_mean}'))\n",
    "print((f'Varianza de la cantidad de años: {sub_ventas_variance}'))\n",
    "print((f'Desviación estándar de la cantidad de años: {sub_ventas_std}'))"
   ]
  },
  {
   "cell_type": "markdown",
   "metadata": {},
   "source": [
    "### Conclusiones ventas <a id='conclu_ventas'></a>"
   ]
  },
  {
   "cell_type": "markdown",
   "metadata": {},
   "source": [
    "- Luego de observar las distribución de las consolas que solían ser las mas populares se puede concluir que las PS2 en la actualidad ya no registra ventas, seguida por la plataforma Wii que registra algunas ventas pero son mínimas.\n",
    "También se puede concluir que la X360 a pesar de los años que tiene en el mercado aún registran ventas, pero sin duda es la PS3 la que se mantiene más vigente a pesar de tener 10 años en el mercado aún se registran ventas considerables. \n",
    "\n",
    "- Con el dato de las desviación estándar que indica la dispersión de los datos podemos decir que aproximadamente cada 4.480573807135016 años tardan en aparecer las nuevas plataformas.\n",
    "\n",
    "- Al observar las distribuciones de las ventas de cada una de las consolas estudiadas se puede concluir que las plataformas generalmente tardan generalmente entre 10 y 12 años en desparacer y quedó demostrado que la plataforma Wii tuvo una vida util bastante mas corta de lo esperado. \n",
    "\n",
    "- También se puede notar que el período de mayor ventas de las plataformas nuevas es de aproximadamente  5 años (dato obtenido de la desviación estándar) a partir de su fecha de lanzamiento, por lo que se toma el período desde 2012 hasta 2016 para construir un modelo para 2017."
   ]
  },
  {
   "cell_type": "markdown",
   "metadata": {},
   "source": [
    "## Nuevo conjunto de datos <a id='nuevo'></a>"
   ]
  },
  {
   "cell_type": "code",
   "execution_count": 29,
   "metadata": {},
   "outputs": [
    {
     "name": "stdout",
     "output_type": "stream",
     "text": [
      "<class 'pandas.core.frame.DataFrame'>\n",
      "Int64Index: 2886 entries, 16 to 16714\n",
      "Data columns (total 12 columns):\n",
      " #   Column           Non-Null Count  Dtype  \n",
      "---  ------           --------------  -----  \n",
      " 0   name             2886 non-null   object \n",
      " 1   platform         2886 non-null   object \n",
      " 2   year_of_release  2886 non-null   int64  \n",
      " 3   genre            2886 non-null   object \n",
      " 4   na_sales         2886 non-null   float64\n",
      " 5   eu_sales         2886 non-null   float64\n",
      " 6   jp_sales         2886 non-null   float64\n",
      " 7   other_sales      2886 non-null   float64\n",
      " 8   critic_score     1312 non-null   float64\n",
      " 9   user_score       1663 non-null   float64\n",
      " 10  rating           2886 non-null   object \n",
      " 11  total_sales      2886 non-null   float64\n",
      "dtypes: float64(7), int64(1), object(4)\n",
      "memory usage: 293.1+ KB\n"
     ]
    }
   ],
   "source": [
    "new_games= games.query('year_of_release >= 2012')\n",
    "new_games.info()"
   ]
  },
  {
   "cell_type": "code",
   "execution_count": 30,
   "metadata": {},
   "outputs": [
    {
     "data": {
      "text/html": [
       "<div>\n",
       "<style scoped>\n",
       "    .dataframe tbody tr th:only-of-type {\n",
       "        vertical-align: middle;\n",
       "    }\n",
       "\n",
       "    .dataframe tbody tr th {\n",
       "        vertical-align: top;\n",
       "    }\n",
       "\n",
       "    .dataframe thead th {\n",
       "        text-align: right;\n",
       "    }\n",
       "</style>\n",
       "<table border=\"1\" class=\"dataframe\">\n",
       "  <thead>\n",
       "    <tr style=\"text-align: right;\">\n",
       "      <th></th>\n",
       "      <th>name</th>\n",
       "      <th>platform</th>\n",
       "      <th>year_of_release</th>\n",
       "      <th>genre</th>\n",
       "      <th>na_sales</th>\n",
       "      <th>eu_sales</th>\n",
       "      <th>jp_sales</th>\n",
       "      <th>other_sales</th>\n",
       "      <th>critic_score</th>\n",
       "      <th>user_score</th>\n",
       "      <th>rating</th>\n",
       "      <th>total_sales</th>\n",
       "    </tr>\n",
       "  </thead>\n",
       "  <tbody>\n",
       "    <tr>\n",
       "      <th>16</th>\n",
       "      <td>Grand Theft Auto V</td>\n",
       "      <td>PS3</td>\n",
       "      <td>2013</td>\n",
       "      <td>Action</td>\n",
       "      <td>7.02</td>\n",
       "      <td>9.09</td>\n",
       "      <td>0.98</td>\n",
       "      <td>3.96</td>\n",
       "      <td>97.0</td>\n",
       "      <td>8.2</td>\n",
       "      <td>M</td>\n",
       "      <td>21.05</td>\n",
       "    </tr>\n",
       "    <tr>\n",
       "      <th>23</th>\n",
       "      <td>Grand Theft Auto V</td>\n",
       "      <td>X360</td>\n",
       "      <td>2013</td>\n",
       "      <td>Action</td>\n",
       "      <td>9.66</td>\n",
       "      <td>5.14</td>\n",
       "      <td>0.06</td>\n",
       "      <td>1.41</td>\n",
       "      <td>97.0</td>\n",
       "      <td>8.1</td>\n",
       "      <td>M</td>\n",
       "      <td>16.27</td>\n",
       "    </tr>\n",
       "    <tr>\n",
       "      <th>31</th>\n",
       "      <td>Call of Duty: Black Ops 3</td>\n",
       "      <td>PS4</td>\n",
       "      <td>2015</td>\n",
       "      <td>Shooter</td>\n",
       "      <td>6.03</td>\n",
       "      <td>5.86</td>\n",
       "      <td>0.36</td>\n",
       "      <td>2.38</td>\n",
       "      <td>NaN</td>\n",
       "      <td>NaN</td>\n",
       "      <td>TBD</td>\n",
       "      <td>14.63</td>\n",
       "    </tr>\n",
       "    <tr>\n",
       "      <th>33</th>\n",
       "      <td>Pokemon X/Pokemon Y</td>\n",
       "      <td>3DS</td>\n",
       "      <td>2013</td>\n",
       "      <td>Role-Playing</td>\n",
       "      <td>5.28</td>\n",
       "      <td>4.19</td>\n",
       "      <td>4.35</td>\n",
       "      <td>0.78</td>\n",
       "      <td>NaN</td>\n",
       "      <td>NaN</td>\n",
       "      <td>TBD</td>\n",
       "      <td>14.60</td>\n",
       "    </tr>\n",
       "    <tr>\n",
       "      <th>34</th>\n",
       "      <td>Call of Duty: Black Ops II</td>\n",
       "      <td>PS3</td>\n",
       "      <td>2012</td>\n",
       "      <td>Shooter</td>\n",
       "      <td>4.99</td>\n",
       "      <td>5.73</td>\n",
       "      <td>0.65</td>\n",
       "      <td>2.42</td>\n",
       "      <td>83.0</td>\n",
       "      <td>5.3</td>\n",
       "      <td>M</td>\n",
       "      <td>13.79</td>\n",
       "    </tr>\n",
       "  </tbody>\n",
       "</table>\n",
       "</div>"
      ],
      "text/plain": [
       "                          name platform  year_of_release         genre  \\\n",
       "16          Grand Theft Auto V      PS3             2013        Action   \n",
       "23          Grand Theft Auto V     X360             2013        Action   \n",
       "31   Call of Duty: Black Ops 3      PS4             2015       Shooter   \n",
       "33         Pokemon X/Pokemon Y      3DS             2013  Role-Playing   \n",
       "34  Call of Duty: Black Ops II      PS3             2012       Shooter   \n",
       "\n",
       "    na_sales  eu_sales  jp_sales  other_sales  critic_score  user_score  \\\n",
       "16      7.02      9.09      0.98         3.96          97.0         8.2   \n",
       "23      9.66      5.14      0.06         1.41          97.0         8.1   \n",
       "31      6.03      5.86      0.36         2.38           NaN         NaN   \n",
       "33      5.28      4.19      4.35         0.78           NaN         NaN   \n",
       "34      4.99      5.73      0.65         2.42          83.0         5.3   \n",
       "\n",
       "   rating  total_sales  \n",
       "16      M        21.05  \n",
       "23      M        16.27  \n",
       "31    TBD        14.63  \n",
       "33    TBD        14.60  \n",
       "34      M        13.79  "
      ]
     },
     "execution_count": 30,
     "metadata": {},
     "output_type": "execute_result"
    }
   ],
   "source": [
    "# Muestra de datos\n",
    "new_games.head()"
   ]
  },
  {
   "cell_type": "code",
   "execution_count": 31,
   "metadata": {},
   "outputs": [
    {
     "data": {
      "image/png": "[encoded data removed]",
      "text/plain": [
       "<Figure size 720x360 with 1 Axes>"
      ]
     },
     "metadata": {
      "needs_background": "light"
     },
     "output_type": "display_data"
    }
   ],
   "source": [
    "# Calcular las ventas cada plataforma. \n",
    "\n",
    "total_sales_games= new_games.groupby('platform')['total_sales'].sum().sort_values(ascending=False)\n",
    "total_sales_games.plot(kind='bar',title= 'Ventas de cada plataforma Período 2012-2016',color='green',\n",
    "                               grid=True,figsize=(10,5))\n",
    "plt.ylabel('Ventas (Millones de dólares estadounidenses)')\n",
    "plt.xlabel('Nombre de la plataforma')\n",
    "plt.show()"
   ]
  },
  {
   "cell_type": "markdown",
   "metadata": {},
   "source": [
    "Se puede observar que las plataformas con más ventas son: PS4, PS3, X360,3DS, las que tuvieron unas ventas con valores medios son: XOne y WiiU por el contrario las de menor ventas son: PC, PSV, Wii,  DC y PSP cuyas ventas son menores a 50 (Expresados en millones de dólares estadounidenses)\n",
    "\n",
    "Se seleccionan las plataformas PS4, PS3, X360 y 3DS para el análisis ya que tienen una mayor cantidad de ventas."
   ]
  },
  {
   "cell_type": "markdown",
   "metadata": {},
   "source": [
    "### Ventas PS4 <a id='ps4'></a>"
   ]
  },
  {
   "cell_type": "code",
   "execution_count": 32,
   "metadata": {},
   "outputs": [
    {
     "data": {
      "text/plain": [
       "count     392.000000\n",
       "mean     2015.145408\n",
       "std         0.868181\n",
       "min      2013.000000\n",
       "25%      2015.000000\n",
       "50%      2015.000000\n",
       "75%      2016.000000\n",
       "max      2016.000000\n",
       "Name: year_of_release, dtype: float64"
      ]
     },
     "execution_count": 32,
     "metadata": {},
     "output_type": "execute_result"
    }
   ],
   "source": [
    "#Subconjunto con las plataformas con mayores ventas\n",
    "sub_ventas_new= new_games.query('platform == \"PS4\" | platform == \"PS3\" | platform == \"X360\" | platform == \"3DS\"')\n",
    "\n",
    "#Ventas PS4\n",
    "\n",
    "sub_ventas_new_1= sub_ventas_new[['platform', 'year_of_release','total_sales']]\n",
    "sub_ventas_ps4= sub_ventas_new_1.query('platform == \"PS4\"')\n",
    "sub_ventas_ps4['year_of_release'].describe()\n"
   ]
  },
  {
   "cell_type": "code",
   "execution_count": 33,
   "metadata": {},
   "outputs": [
    {
     "data": {
      "image/png": "[encoded data removed]",
      "text/plain": [
       "<Figure size 504x504 with 1 Axes>"
      ]
     },
     "metadata": {
      "needs_background": "light"
     },
     "output_type": "display_data"
    }
   ],
   "source": [
    "sub_ventas_ps4= sub_ventas_ps4.groupby('year_of_release')['total_sales'].sum()\n",
    "sub_ventas_ps4.plot(kind='bar',title= 'Ventas PS4 Período 2012-2016',color= 'green',\n",
    "                   grid=True,figsize=(7,7))\n",
    "plt.xlabel('Años donde se registraron ventas')\n",
    "plt.ylabel('Ventas (Millones de dólares estadounidenses)')\n",
    "plt.show()"
   ]
  },
  {
   "cell_type": "markdown",
   "metadata": {},
   "source": [
    "A lo largo del período que va desde 2012 hasta el 2016 podemos observar que se registran ventas a partir del año 2013 que es precisamente el año de lanzamiento de la consola PS4, a partir de ahí las ventas fueron en ascenso hasta el 2015 cuando se recaudó más dinero por sus ventas."
   ]
  },
  {
   "cell_type": "markdown",
   "metadata": {},
   "source": [
    "### Ventas PS3 <a id='ps3_n'></a>"
   ]
  },
  {
   "cell_type": "code",
   "execution_count": 34,
   "metadata": {},
   "outputs": [
    {
     "data": {
      "text/plain": [
       "count     493.000000\n",
       "mean     2013.446247\n",
       "std         1.268622\n",
       "min      2012.000000\n",
       "25%      2012.000000\n",
       "50%      2013.000000\n",
       "75%      2014.000000\n",
       "max      2016.000000\n",
       "Name: year_of_release, dtype: float64"
      ]
     },
     "execution_count": 34,
     "metadata": {},
     "output_type": "execute_result"
    }
   ],
   "source": [
    "#Ventas PS3\n",
    "\n",
    "sub_ventas_new_1= sub_ventas_new[['platform', 'year_of_release','total_sales']]\n",
    "sub_ventas_ps3= sub_ventas_new_1.query('platform == \"PS3\"')\n",
    "sub_ventas_ps3['year_of_release'].describe()"
   ]
  },
  {
   "cell_type": "code",
   "execution_count": 35,
   "metadata": {},
   "outputs": [
    {
     "data": {
      "image/png": "[encoded data removed]",
      "text/plain": [
       "<Figure size 504x504 with 1 Axes>"
      ]
     },
     "metadata": {
      "needs_background": "light"
     },
     "output_type": "display_data"
    }
   ],
   "source": [
    "sub_ventas_ps3= sub_ventas_ps3.groupby('year_of_release')['total_sales'].sum()\n",
    "sub_ventas_ps3.plot(kind='bar',title= 'Ventas PS3 Período 2012-2016',color= 'green',\n",
    "                   grid=True,figsize=(7,7))\n",
    "plt.xlabel('Años donde se registraron ventas')\n",
    "plt.ylabel('Ventas (Millones de dólares estadounidenses)')\n",
    "plt.show()"
   ]
  },
  {
   "cell_type": "markdown",
   "metadata": {},
   "source": [
    "A lo largo del período que va desde 2012 hasta el 2016 podemos observar que ya en el 2012 se registran ventas muy altas y es en 2013 donde se encuentra su pico más alto, ya a partir de 2014 comienzan a bajar las ventas por lo que en el 2016 ya está en su pico más bajo. "
   ]
  },
  {
   "cell_type": "markdown",
   "metadata": {},
   "source": [
    "### Ventas X360 <a id='x360_n'></a>"
   ]
  },
  {
   "cell_type": "code",
   "execution_count": 36,
   "metadata": {},
   "outputs": [
    {
     "data": {
      "text/plain": [
       "count     292.000000\n",
       "mean     2013.226027\n",
       "std         1.188551\n",
       "min      2012.000000\n",
       "25%      2012.000000\n",
       "50%      2013.000000\n",
       "75%      2014.000000\n",
       "max      2016.000000\n",
       "Name: year_of_release, dtype: float64"
      ]
     },
     "execution_count": 36,
     "metadata": {},
     "output_type": "execute_result"
    }
   ],
   "source": [
    "#Ventas X360\n",
    "\n",
    "sub_ventas_new_1= sub_ventas_new[['platform', 'year_of_release','total_sales']]\n",
    "sub_ventas_x360= sub_ventas_new_1.query('platform == \"X360\"')\n",
    "sub_ventas_x360['year_of_release'].describe()"
   ]
  },
  {
   "cell_type": "code",
   "execution_count": 37,
   "metadata": {},
   "outputs": [
    {
     "data": {
      "image/png": "[encoded data removed]",
      "text/plain": [
       "<Figure size 504x504 with 1 Axes>"
      ]
     },
     "metadata": {
      "needs_background": "light"
     },
     "output_type": "display_data"
    }
   ],
   "source": [
    "sub_ventas_x360= sub_ventas_x360.groupby('year_of_release')['total_sales'].sum()\n",
    "sub_ventas_x360.plot(kind='bar',title= 'Ventas X360 Período 2012-2016',color= 'green',\n",
    "                   grid=True,figsize=(7,7))\n",
    "plt.xlabel('Años donde se registraron ventas')\n",
    "plt.ylabel('Ventas (Millones de dólares estadounidenses)')\n",
    "plt.show()"
   ]
  },
  {
   "cell_type": "markdown",
   "metadata": {},
   "source": [
    "A lo largo del período que va desde 2012 hasta el 2016 podemos observar que ya en el 2012 se registran ventas muy altas y es ahí precisamente donde se encuentra su pico más alto, ya a partir de 2013 comienzan a bajar las ventas por lo que en el 2016 ya está en su pico más bajo. "
   ]
  },
  {
   "cell_type": "markdown",
   "metadata": {},
   "source": [
    "### Ventas 3DS <a id='3ds'></a>"
   ]
  },
  {
   "cell_type": "code",
   "execution_count": 38,
   "metadata": {},
   "outputs": [
    {
     "data": {
      "text/plain": [
       "count     396.000000\n",
       "mean     2013.750000\n",
       "std         1.339044\n",
       "min      2012.000000\n",
       "25%      2013.000000\n",
       "50%      2014.000000\n",
       "75%      2015.000000\n",
       "max      2016.000000\n",
       "Name: year_of_release, dtype: float64"
      ]
     },
     "execution_count": 38,
     "metadata": {},
     "output_type": "execute_result"
    }
   ],
   "source": [
    "#Ventas 3DS\n",
    "\n",
    "sub_ventas_new_1= sub_ventas_new[['platform', 'year_of_release','total_sales']]\n",
    "sub_ventas_3ds= sub_ventas_new_1.query('platform == \"3DS\"')\n",
    "sub_ventas_3ds['year_of_release'].describe()"
   ]
  },
  {
   "cell_type": "code",
   "execution_count": 39,
   "metadata": {
    "scrolled": false
   },
   "outputs": [
    {
     "data": {
      "image/png": "[encoded data removed]",
      "text/plain": [
       "<Figure size 504x504 with 1 Axes>"
      ]
     },
     "metadata": {
      "needs_background": "light"
     },
     "output_type": "display_data"
    }
   ],
   "source": [
    "sub_ventas_3ds= sub_ventas_3ds.groupby('year_of_release')['total_sales'].sum()\n",
    "sub_ventas_3ds.plot(kind='bar',title= 'Ventas 3DS Período 2012-2016',color= 'green',\n",
    "                   grid=True,figsize=(7,7))\n",
    "plt.xlabel('Años donde se registraron ventas')\n",
    "plt.ylabel('Ventas (Millones de dólares estadounidenses)')\n",
    "plt.show()"
   ]
  },
  {
   "cell_type": "markdown",
   "metadata": {},
   "source": [
    "A lo largo del período que va desde 2012 hasta el 2016 podemos observar que ya en el 2012 se registran ventas muy altas al igual que en 2013 y es ahí precisamente donde se encuentra su pico más alto, ya a partir de 2014 comienzan a bajar las ventas por lo que en el 2016 ya está en su pico más bajo, pero de igual manera mantiene unas ventas significativas. "
   ]
  },
  {
   "cell_type": "markdown",
   "metadata": {},
   "source": [
    "Se van a estudiar las plataformas que tienen mayores ventas medias XOne y WiiU para determinar si sus ventas van en subida o en bajada. "
   ]
  },
  {
   "cell_type": "markdown",
   "metadata": {},
   "source": [
    "### Ventas XOne <a id='xone'></a>"
   ]
  },
  {
   "cell_type": "code",
   "execution_count": 40,
   "metadata": {},
   "outputs": [
    {
     "data": {
      "text/plain": [
       "count     247.000000\n",
       "mean     2014.951417\n",
       "std         0.952995\n",
       "min      2013.000000\n",
       "25%      2014.000000\n",
       "50%      2015.000000\n",
       "75%      2016.000000\n",
       "max      2016.000000\n",
       "Name: year_of_release, dtype: float64"
      ]
     },
     "execution_count": 40,
     "metadata": {},
     "output_type": "execute_result"
    }
   ],
   "source": [
    "sub_ventas_new_2= new_games.query('platform == \"XOne\" | platform == \"WiiU\"')\n",
    "\n",
    "#Ventas XOne\n",
    "\n",
    "sub_ventas_new_3= sub_ventas_new_2[['platform', 'year_of_release','total_sales']]\n",
    "sub_ventas_xone= sub_ventas_new_3.query('platform == \"XOne\"')\n",
    "sub_ventas_xone['year_of_release'].describe()"
   ]
  },
  {
   "cell_type": "code",
   "execution_count": 41,
   "metadata": {},
   "outputs": [
    {
     "data": {
      "image/png": "[encoded data removed]",
      "text/plain": [
       "<Figure size 504x504 with 1 Axes>"
      ]
     },
     "metadata": {
      "needs_background": "light"
     },
     "output_type": "display_data"
    }
   ],
   "source": [
    "sub_ventas_xone= sub_ventas_xone.groupby('year_of_release')['total_sales'].sum()\n",
    "sub_ventas_xone.plot(kind='bar',title= 'Ventas XOne Período 2012-2016',color= 'green',\n",
    "                   grid=True,figsize=(7,7))\n",
    "plt.xlabel('Años donde se registraron ventas')\n",
    "plt.ylabel('Ventas (Millones de dólares estadounidenses)')\n",
    "plt.show()"
   ]
  },
  {
   "cell_type": "markdown",
   "metadata": {},
   "source": [
    "A lo largo del período que va desde 2012 hasta el 2016 podemos observar que a partir del 2013 se registran ventas, estas van subiendo a lo largo de los años hasta el 2015 donde se encuentra el pico mas alto. "
   ]
  },
  {
   "cell_type": "markdown",
   "metadata": {},
   "source": [
    "### Ventas WiiU <a id='wiiu'></a>"
   ]
  },
  {
   "cell_type": "code",
   "execution_count": 42,
   "metadata": {},
   "outputs": [
    {
     "data": {
      "text/plain": [
       "count     147.000000\n",
       "mean     2013.659864\n",
       "std         1.274065\n",
       "min      2012.000000\n",
       "25%      2013.000000\n",
       "50%      2013.000000\n",
       "75%      2015.000000\n",
       "max      2016.000000\n",
       "Name: year_of_release, dtype: float64"
      ]
     },
     "execution_count": 42,
     "metadata": {},
     "output_type": "execute_result"
    }
   ],
   "source": [
    "#Ventas WiiU\n",
    "\n",
    "sub_ventas_new_3= sub_ventas_new_2[['platform', 'year_of_release','total_sales']]\n",
    "sub_ventas_wiiu= sub_ventas_new_3.query('platform == \"WiiU\"')\n",
    "sub_ventas_wiiu['year_of_release'].describe()"
   ]
  },
  {
   "cell_type": "code",
   "execution_count": 43,
   "metadata": {},
   "outputs": [
    {
     "data": {
      "image/png": "[encoded data removed]",
      "text/plain": [
       "<Figure size 504x504 with 1 Axes>"
      ]
     },
     "metadata": {
      "needs_background": "light"
     },
     "output_type": "display_data"
    }
   ],
   "source": [
    "sub_ventas_wiiu= sub_ventas_wiiu.groupby('year_of_release')['total_sales'].sum()\n",
    "sub_ventas_wiiu.plot(kind='bar',title= 'Ventas WiiU Período 2012-2016',color= 'green',\n",
    "                   grid=True,figsize=(7,7))\n",
    "plt.xlabel('Años donde se registraron ventas')\n",
    "plt.ylabel('Ventas (Millones de dólares estadounidenses)')\n",
    "plt.show()"
   ]
  },
  {
   "cell_type": "markdown",
   "metadata": {},
   "source": [
    "A lo largo del período que va desde 2012 hasta el 2016 podemos observar que ya en el 2012 se registran ventas altas al igual que en 2013 y es en 2014 donde se encuentra su pico más alto, la baja en las ventas no es tan considerable durante el 2015, pero ya en 2016 sufre una caída significativa. "
   ]
  },
  {
   "cell_type": "markdown",
   "metadata": {},
   "source": [
    "### Conclusiones <a id='conclu_nuevo'></a>"
   ]
  },
  {
   "cell_type": "markdown",
   "metadata": {},
   "source": [
    "Luego de observar la distribución de las plataformas con ventas altas y medias se puede concluir que la PS4 y la XOne se encuentran en un buen momento de ventas en el año 2015 tuvieron su pico de ventas y en 2016 mantienen unas ventas significativas por encima de las otras plataformas y por el contrario las plataformas PS3, X360, 3DS y WiiU en el año 2016 experimentaron una caida en sus ventas y se encuentran en sus mínimos históricos."
   ]
  },
  {
   "cell_type": "markdown",
   "metadata": {},
   "source": [
    "## Estudio de ventas globales <a id='estudiar_ventas'></a>"
   ]
  },
  {
   "cell_type": "code",
   "execution_count": 44,
   "metadata": {},
   "outputs": [
    {
     "data": {
      "image/png": "[encoded data removed]",
      "text/plain": [
       "<Figure size 720x504 with 1 Axes>"
      ]
     },
     "metadata": {
      "needs_background": "light"
     },
     "output_type": "display_data"
    }
   ],
   "source": [
    "#Diagrama de caja ventas globales por plataforma\n",
    "var1='platform'\n",
    "subconjunto1= new_games[['platform','total_sales']]\n",
    "f, ax = plt.subplots(figsize=(10, 7))\n",
    "grafico_ventas_globales= sns.boxplot(x=var1, y='total_sales', data=subconjunto1)\n"
   ]
  },
  {
   "cell_type": "markdown",
   "metadata": {},
   "source": [
    "Se pueden observar diferencias significativas entre algunas plataformas la PS3, X360, PS4, Xone, WiiU y la Wii tienen diagramas de cajas parecidos pero, las plataformas que registran las ventas mas altas que son PS3, X360, PS4 Y 3DS tienen valores atípicos muy altos donde resalta la PS3 con valores atípicos hasta por encima de los 20 (expresados en millones de dolares estadounidenses; las plataformas con ventas menores no se puede visualizar su Q1, Q3 y mediana ya que están practicamente en el mismo valor, estas plataformas también tienen valores atípicos pero con valores mas bajos. "
   ]
  },
  {
   "cell_type": "markdown",
   "metadata": {},
   "source": [
    "## Correlación entre las reseñas y las ventas <a id='correlacion'></a>"
   ]
  },
  {
   "cell_type": "markdown",
   "metadata": {},
   "source": [
    "### Estudio de correlación entre las reseñas de usuarios y las ventas <a id='usuarios'></a>"
   ]
  },
  {
   "cell_type": "code",
   "execution_count": 45,
   "metadata": {},
   "outputs": [],
   "source": [
    "# Matriz de correlación "
   ]
  },
  {
   "cell_type": "code",
   "execution_count": 46,
   "metadata": {},
   "outputs": [
    {
     "data": {
      "text/plain": [
       "0.09785396943864565"
      ]
     },
     "execution_count": 46,
     "metadata": {},
     "output_type": "execute_result"
    }
   ],
   "source": [
    "new_games['user_score'].corr(new_games['total_sales'])"
   ]
  },
  {
   "cell_type": "code",
   "execution_count": 79,
   "metadata": {},
   "outputs": [
    {
     "data": {
      "text/plain": [
       "<AxesSubplot:title={'center':'Correlación entre las reseñas de usuarios y las ventas de la PS4'}, xlabel='user_score', ylabel='total_sales'>"
      ]
     },
     "execution_count": 79,
     "metadata": {},
     "output_type": "execute_result"
    },
    {
     "data": {
      "image/png": "[encoded data removed]",
      "text/plain": [
       "<Figure size 432x288 with 1 Axes>"
      ]
     },
     "metadata": {
      "needs_background": "light"
     },
     "output_type": "display_data"
    }
   ],
   "source": [
    "# Correlación entre las reseñas de usuarios y las ventas de la plataforma PS4\n",
    "score_usu_ps4= new_games.query('platform == \"PS4\"')\n",
    "score_usu_ps4.plot(x='user_score',y='total_sales',kind='scatter',\n",
    "                   title= 'Correlación entre las reseñas de usuarios y las ventas de la PS4',grid=True,\n",
    "                   figsize=(6,4),color= 'green')"
   ]
  },
  {
   "cell_type": "markdown",
   "metadata": {},
   "source": [
    "Como se puede observar en el gráfico de dispersión donde se estudia la relación entre las reseñas de los usuarios y las ventas de una de las plataformas más populares como lo es la PS4 que existe una correlación muy débilmente positiva y se comprueba con el calculo de las matriz de correlación cuyo resultado fue 0.09785396943864565, también podemos ver que tenemos algunos puntos dispersos que nos señalan que tenemos valores atípicos.  "
   ]
  },
  {
   "cell_type": "markdown",
   "metadata": {},
   "source": [
    "### Estudio de correlación entre las reseñas de los críticos y las ventas <a id='criticos'></a>"
   ]
  },
  {
   "cell_type": "code",
   "execution_count": 48,
   "metadata": {},
   "outputs": [
    {
     "data": {
      "text/plain": [
       "0.308196745920778"
      ]
     },
     "execution_count": 48,
     "metadata": {},
     "output_type": "execute_result"
    }
   ],
   "source": [
    "# Matriz de correlación \n",
    "new_games['critic_score'].corr(new_games['total_sales'])"
   ]
  },
  {
   "cell_type": "code",
   "execution_count": 80,
   "metadata": {},
   "outputs": [
    {
     "data": {
      "text/plain": [
       "<AxesSubplot:title={'center':'Correlación entre las reseñas de los críticos y las ventas de la PS4'}, xlabel='critic_score', ylabel='total_sales'>"
      ]
     },
     "execution_count": 80,
     "metadata": {},
     "output_type": "execute_result"
    },
    {
     "data": {
      "image/png": "[encoded data removed]",
      "text/plain": [
       "<Figure size 432x288 with 1 Axes>"
      ]
     },
     "metadata": {
      "needs_background": "light"
     },
     "output_type": "display_data"
    }
   ],
   "source": [
    "# Correlación entre las reseñas de los críticos y las ventas de la plataforma PS4\n",
    "score_crit_ps4= new_games.query('platform == \"PS4\"')\n",
    "score_crit_ps4.plot(x='critic_score',y='total_sales',kind='scatter',\n",
    "                    title= 'Correlación entre las reseñas de los críticos y las ventas de la PS4',grid=True,\n",
    "                    figsize=(6,4),color= 'green')"
   ]
  },
  {
   "cell_type": "markdown",
   "metadata": {},
   "source": [
    "Como se puede observar en el gráfico de dispersión donde se estudia la correlación entre las reseñas de los críticos y las ventas de una de las plataformas más populares como lo es la PS4 que existe una correlación débilmente positiva y se comprueba con el calculo de las matriz de correlación cuyo resultado fue 0.308196745920778, también podemos ver que tenemos algunos puntos dispersos que nos señalan que tenemos valores atípicos.  "
   ]
  },
  {
   "cell_type": "markdown",
   "metadata": {},
   "source": [
    "### Conclusiones <a id='conclu_reseñas'></a>"
   ]
  },
  {
   "cell_type": "markdown",
   "metadata": {},
   "source": [
    "Después de calcular las matrices de correlación y realizar los gráficos de dispersión se puede concluir que existe una debil correlación entre las ventas y las críticas tanto de los usuarios como de los críticos así que no se le puede atribuir el éxito de esta plataforma directamente a esta variable. "
   ]
  },
  {
   "cell_type": "markdown",
   "metadata": {},
   "source": [
    "## Estudio de ventas por juegos <a id='estudiar'></a>"
   ]
  },
  {
   "cell_type": "code",
   "execution_count": 50,
   "metadata": {},
   "outputs": [
    {
     "data": {
      "text/html": [
       "<div>\n",
       "<style scoped>\n",
       "    .dataframe tbody tr th:only-of-type {\n",
       "        vertical-align: middle;\n",
       "    }\n",
       "\n",
       "    .dataframe tbody tr th {\n",
       "        vertical-align: top;\n",
       "    }\n",
       "\n",
       "    .dataframe thead th {\n",
       "        text-align: right;\n",
       "    }\n",
       "</style>\n",
       "<table border=\"1\" class=\"dataframe\">\n",
       "  <thead>\n",
       "    <tr style=\"text-align: right;\">\n",
       "      <th></th>\n",
       "      <th>name</th>\n",
       "      <th>platform</th>\n",
       "      <th>year_of_release</th>\n",
       "      <th>genre</th>\n",
       "      <th>na_sales</th>\n",
       "      <th>eu_sales</th>\n",
       "      <th>jp_sales</th>\n",
       "      <th>other_sales</th>\n",
       "      <th>critic_score</th>\n",
       "      <th>user_score</th>\n",
       "      <th>rating</th>\n",
       "      <th>total_sales</th>\n",
       "    </tr>\n",
       "  </thead>\n",
       "  <tbody>\n",
       "    <tr>\n",
       "      <th>16</th>\n",
       "      <td>Grand Theft Auto V</td>\n",
       "      <td>PS3</td>\n",
       "      <td>2013</td>\n",
       "      <td>Action</td>\n",
       "      <td>7.02</td>\n",
       "      <td>9.09</td>\n",
       "      <td>0.98</td>\n",
       "      <td>3.96</td>\n",
       "      <td>97.0</td>\n",
       "      <td>8.2</td>\n",
       "      <td>M</td>\n",
       "      <td>21.05</td>\n",
       "    </tr>\n",
       "    <tr>\n",
       "      <th>23</th>\n",
       "      <td>Grand Theft Auto V</td>\n",
       "      <td>X360</td>\n",
       "      <td>2013</td>\n",
       "      <td>Action</td>\n",
       "      <td>9.66</td>\n",
       "      <td>5.14</td>\n",
       "      <td>0.06</td>\n",
       "      <td>1.41</td>\n",
       "      <td>97.0</td>\n",
       "      <td>8.1</td>\n",
       "      <td>M</td>\n",
       "      <td>16.27</td>\n",
       "    </tr>\n",
       "    <tr>\n",
       "      <th>31</th>\n",
       "      <td>Call of Duty: Black Ops 3</td>\n",
       "      <td>PS4</td>\n",
       "      <td>2015</td>\n",
       "      <td>Shooter</td>\n",
       "      <td>6.03</td>\n",
       "      <td>5.86</td>\n",
       "      <td>0.36</td>\n",
       "      <td>2.38</td>\n",
       "      <td>NaN</td>\n",
       "      <td>NaN</td>\n",
       "      <td>TBD</td>\n",
       "      <td>14.63</td>\n",
       "    </tr>\n",
       "    <tr>\n",
       "      <th>33</th>\n",
       "      <td>Pokemon X/Pokemon Y</td>\n",
       "      <td>3DS</td>\n",
       "      <td>2013</td>\n",
       "      <td>Role-Playing</td>\n",
       "      <td>5.28</td>\n",
       "      <td>4.19</td>\n",
       "      <td>4.35</td>\n",
       "      <td>0.78</td>\n",
       "      <td>NaN</td>\n",
       "      <td>NaN</td>\n",
       "      <td>TBD</td>\n",
       "      <td>14.60</td>\n",
       "    </tr>\n",
       "    <tr>\n",
       "      <th>34</th>\n",
       "      <td>Call of Duty: Black Ops II</td>\n",
       "      <td>PS3</td>\n",
       "      <td>2012</td>\n",
       "      <td>Shooter</td>\n",
       "      <td>4.99</td>\n",
       "      <td>5.73</td>\n",
       "      <td>0.65</td>\n",
       "      <td>2.42</td>\n",
       "      <td>83.0</td>\n",
       "      <td>5.3</td>\n",
       "      <td>M</td>\n",
       "      <td>13.79</td>\n",
       "    </tr>\n",
       "  </tbody>\n",
       "</table>\n",
       "</div>"
      ],
      "text/plain": [
       "                          name platform  year_of_release         genre  \\\n",
       "16          Grand Theft Auto V      PS3             2013        Action   \n",
       "23          Grand Theft Auto V     X360             2013        Action   \n",
       "31   Call of Duty: Black Ops 3      PS4             2015       Shooter   \n",
       "33         Pokemon X/Pokemon Y      3DS             2013  Role-Playing   \n",
       "34  Call of Duty: Black Ops II      PS3             2012       Shooter   \n",
       "\n",
       "    na_sales  eu_sales  jp_sales  other_sales  critic_score  user_score  \\\n",
       "16      7.02      9.09      0.98         3.96          97.0         8.2   \n",
       "23      9.66      5.14      0.06         1.41          97.0         8.1   \n",
       "31      6.03      5.86      0.36         2.38           NaN         NaN   \n",
       "33      5.28      4.19      4.35         0.78           NaN         NaN   \n",
       "34      4.99      5.73      0.65         2.42          83.0         5.3   \n",
       "\n",
       "   rating  total_sales  \n",
       "16      M        21.05  \n",
       "23      M        16.27  \n",
       "31    TBD        14.63  \n",
       "33    TBD        14.60  \n",
       "34      M        13.79  "
      ]
     },
     "execution_count": 50,
     "metadata": {},
     "output_type": "execute_result"
    }
   ],
   "source": [
    "new_games.head()"
   ]
  },
  {
   "cell_type": "code",
   "execution_count": 51,
   "metadata": {},
   "outputs": [
    {
     "data": {
      "text/html": [
       "<div>\n",
       "<style scoped>\n",
       "    .dataframe tbody tr th:only-of-type {\n",
       "        vertical-align: middle;\n",
       "    }\n",
       "\n",
       "    .dataframe tbody tr th {\n",
       "        vertical-align: top;\n",
       "    }\n",
       "\n",
       "    .dataframe thead th {\n",
       "        text-align: right;\n",
       "    }\n",
       "</style>\n",
       "<table border=\"1\" class=\"dataframe\">\n",
       "  <thead>\n",
       "    <tr style=\"text-align: right;\">\n",
       "      <th></th>\n",
       "      <th>name</th>\n",
       "      <th>total_sales</th>\n",
       "    </tr>\n",
       "  </thead>\n",
       "  <tbody>\n",
       "    <tr>\n",
       "      <th>559</th>\n",
       "      <td>Grand Theft Auto V</td>\n",
       "      <td>56.58</td>\n",
       "    </tr>\n",
       "    <tr>\n",
       "      <th>183</th>\n",
       "      <td>Call of Duty: Black Ops II</td>\n",
       "      <td>29.40</td>\n",
       "    </tr>\n",
       "    <tr>\n",
       "      <th>184</th>\n",
       "      <td>Call of Duty: Ghosts</td>\n",
       "      <td>27.39</td>\n",
       "    </tr>\n",
       "    <tr>\n",
       "      <th>182</th>\n",
       "      <td>Call of Duty: Black Ops 3</td>\n",
       "      <td>25.67</td>\n",
       "    </tr>\n",
       "    <tr>\n",
       "      <th>879</th>\n",
       "      <td>Minecraft</td>\n",
       "      <td>24.16</td>\n",
       "    </tr>\n",
       "    <tr>\n",
       "      <th>...</th>\n",
       "      <td>...</td>\n",
       "      <td>...</td>\n",
       "    </tr>\n",
       "    <tr>\n",
       "      <th>1249</th>\n",
       "      <td>Shinobi Koutsutsu</td>\n",
       "      <td>0.01</td>\n",
       "    </tr>\n",
       "    <tr>\n",
       "      <th>1293</th>\n",
       "      <td>Sousaku Alice to Oujisama!</td>\n",
       "      <td>0.01</td>\n",
       "    </tr>\n",
       "    <tr>\n",
       "      <th>119</th>\n",
       "      <td>Balloon Pop 2</td>\n",
       "      <td>0.01</td>\n",
       "    </tr>\n",
       "    <tr>\n",
       "      <th>1545</th>\n",
       "      <td>Tsukigime Ranko's Longest Day</td>\n",
       "      <td>0.01</td>\n",
       "    </tr>\n",
       "    <tr>\n",
       "      <th>985</th>\n",
       "      <td>Nobunaga no Yabou Online: Houou no Shou</td>\n",
       "      <td>0.01</td>\n",
       "    </tr>\n",
       "  </tbody>\n",
       "</table>\n",
       "<p>1671 rows × 2 columns</p>\n",
       "</div>"
      ],
      "text/plain": [
       "                                         name  total_sales\n",
       "559                        Grand Theft Auto V        56.58\n",
       "183                Call of Duty: Black Ops II        29.40\n",
       "184                      Call of Duty: Ghosts        27.39\n",
       "182                 Call of Duty: Black Ops 3        25.67\n",
       "879                                 Minecraft        24.16\n",
       "...                                       ...          ...\n",
       "1249                        Shinobi Koutsutsu         0.01\n",
       "1293               Sousaku Alice to Oujisama!         0.01\n",
       "119                             Balloon Pop 2         0.01\n",
       "1545            Tsukigime Ranko's Longest Day         0.01\n",
       "985   Nobunaga no Yabou Online: Houou no Shou         0.01\n",
       "\n",
       "[1671 rows x 2 columns]"
      ]
     },
     "execution_count": 51,
     "metadata": {},
     "output_type": "execute_result"
    }
   ],
   "source": [
    "#Calcular las ventas por juegos \n",
    "ventas_juegos= new_games[['name','platform','total_sales']]\n",
    "ventas_juegos_sum= ventas_juegos.groupby('name')['total_sales'].sum().to_frame().reset_index()\n",
    "ventas_juegos_sum.sort_values(by='total_sales', ascending=False)"
   ]
  },
  {
   "cell_type": "markdown",
   "metadata": {},
   "source": [
    "Se estudiaran los 5 juegos con mayores ventas en las plataformas PS4 y XOne que son las platafaformas con mejores ventas del período.\n",
    "- Grand Theft Auto V\n",
    "- Call of Duty: Black Ops II\n",
    "- Call of Duty: Ghosts\n",
    "- Call of Duty: Black Ops 3\n",
    "- Minecraft"
   ]
  },
  {
   "cell_type": "markdown",
   "metadata": {},
   "source": [
    "### Juegos en PS4 <a id='juegos_ps4'></a>"
   ]
  },
  {
   "cell_type": "code",
   "execution_count": 52,
   "metadata": {},
   "outputs": [
    {
     "data": {
      "text/html": [
       "<div>\n",
       "<style scoped>\n",
       "    .dataframe tbody tr th:only-of-type {\n",
       "        vertical-align: middle;\n",
       "    }\n",
       "\n",
       "    .dataframe tbody tr th {\n",
       "        vertical-align: top;\n",
       "    }\n",
       "\n",
       "    .dataframe thead th {\n",
       "        text-align: right;\n",
       "    }\n",
       "</style>\n",
       "<table border=\"1\" class=\"dataframe\">\n",
       "  <thead>\n",
       "    <tr style=\"text-align: right;\">\n",
       "      <th></th>\n",
       "      <th>name</th>\n",
       "      <th>platform</th>\n",
       "      <th>total_sales</th>\n",
       "      <th>year_of_release</th>\n",
       "    </tr>\n",
       "  </thead>\n",
       "  <tbody>\n",
       "    <tr>\n",
       "      <th>31</th>\n",
       "      <td>Call of Duty: Black Ops 3</td>\n",
       "      <td>PS4</td>\n",
       "      <td>14.63</td>\n",
       "      <td>2015</td>\n",
       "    </tr>\n",
       "    <tr>\n",
       "      <th>42</th>\n",
       "      <td>Grand Theft Auto V</td>\n",
       "      <td>PS4</td>\n",
       "      <td>12.62</td>\n",
       "      <td>2014</td>\n",
       "    </tr>\n",
       "    <tr>\n",
       "      <th>261</th>\n",
       "      <td>Minecraft</td>\n",
       "      <td>PS4</td>\n",
       "      <td>4.32</td>\n",
       "      <td>2014</td>\n",
       "    </tr>\n",
       "    <tr>\n",
       "      <th>323</th>\n",
       "      <td>Call of Duty: Ghosts</td>\n",
       "      <td>PS4</td>\n",
       "      <td>3.83</td>\n",
       "      <td>2013</td>\n",
       "    </tr>\n",
       "  </tbody>\n",
       "</table>\n",
       "</div>"
      ],
      "text/plain": [
       "                          name platform  total_sales  year_of_release\n",
       "31   Call of Duty: Black Ops 3      PS4        14.63             2015\n",
       "42          Grand Theft Auto V      PS4        12.62             2014\n",
       "261                  Minecraft      PS4         4.32             2014\n",
       "323       Call of Duty: Ghosts      PS4         3.83             2013"
      ]
     },
     "execution_count": 52,
     "metadata": {},
     "output_type": "execute_result"
    }
   ],
   "source": [
    "ventas_juegos= new_games[['name','platform','total_sales','year_of_release']]\n",
    "sub_ventas_1= ventas_juegos.query('name == \"Grand Theft Auto V\" | name == \"Call of Duty: Black Ops II\" | name== \"Call of Duty: Ghosts\" | name== \"Call of Duty: Black Ops 3\" | name== \"Minecraft\" ')\n",
    "sub_ventas_ps4= sub_ventas_1.query('platform == \"PS4\"')\n",
    "sub_ventas_ps4"
   ]
  },
  {
   "cell_type": "code",
   "execution_count": 53,
   "metadata": {},
   "outputs": [
    {
     "data": {
      "image/png": "[encoded data removed]",
      "text/plain": [
       "<Figure size 432x360 with 1 Axes>"
      ]
     },
     "metadata": {
      "needs_background": "light"
     },
     "output_type": "display_data"
    }
   ],
   "source": [
    "sub_ventas_ps4_grafico= sub_ventas_ps4.groupby('name')['total_sales'].sum().sort_values(ascending=False)\n",
    "sub_ventas_ps4_grafico.reset_index()\n",
    "\n",
    "sub_ventas_ps4_grafico.plot(kind='bar',title= 'Ventas principales juegos PS4',color='green',\n",
    "                               grid=True,figsize=(6,5))\n",
    "plt.ylabel('Ventas (Millones de dólares estadounidenses)')\n",
    "plt.xlabel('Nombre del juego')\n",
    "plt.show()\n"
   ]
  },
  {
   "cell_type": "markdown",
   "metadata": {},
   "source": [
    "Los juego más vendidos en la plataforma PS4 son Call of Duty: Black Ops 3 y Grand Theft Auto V."
   ]
  },
  {
   "cell_type": "markdown",
   "metadata": {},
   "source": [
    "### Juegos en XOne <a id='juegos_xone'></a>"
   ]
  },
  {
   "cell_type": "code",
   "execution_count": 54,
   "metadata": {},
   "outputs": [
    {
     "data": {
      "text/html": [
       "<div>\n",
       "<style scoped>\n",
       "    .dataframe tbody tr th:only-of-type {\n",
       "        vertical-align: middle;\n",
       "    }\n",
       "\n",
       "    .dataframe tbody tr th {\n",
       "        vertical-align: top;\n",
       "    }\n",
       "\n",
       "    .dataframe thead th {\n",
       "        text-align: right;\n",
       "    }\n",
       "</style>\n",
       "<table border=\"1\" class=\"dataframe\">\n",
       "  <thead>\n",
       "    <tr style=\"text-align: right;\">\n",
       "      <th></th>\n",
       "      <th>name</th>\n",
       "      <th>platform</th>\n",
       "      <th>total_sales</th>\n",
       "      <th>year_of_release</th>\n",
       "    </tr>\n",
       "  </thead>\n",
       "  <tbody>\n",
       "    <tr>\n",
       "      <th>99</th>\n",
       "      <td>Call of Duty: Black Ops 3</td>\n",
       "      <td>XOne</td>\n",
       "      <td>7.39</td>\n",
       "      <td>2015</td>\n",
       "    </tr>\n",
       "    <tr>\n",
       "      <th>165</th>\n",
       "      <td>Grand Theft Auto V</td>\n",
       "      <td>XOne</td>\n",
       "      <td>5.47</td>\n",
       "      <td>2014</td>\n",
       "    </tr>\n",
       "    <tr>\n",
       "      <th>493</th>\n",
       "      <td>Call of Duty: Ghosts</td>\n",
       "      <td>XOne</td>\n",
       "      <td>2.92</td>\n",
       "      <td>2013</td>\n",
       "    </tr>\n",
       "    <tr>\n",
       "      <th>543</th>\n",
       "      <td>Minecraft</td>\n",
       "      <td>XOne</td>\n",
       "      <td>2.76</td>\n",
       "      <td>2014</td>\n",
       "    </tr>\n",
       "  </tbody>\n",
       "</table>\n",
       "</div>"
      ],
      "text/plain": [
       "                          name platform  total_sales  year_of_release\n",
       "99   Call of Duty: Black Ops 3     XOne         7.39             2015\n",
       "165         Grand Theft Auto V     XOne         5.47             2014\n",
       "493       Call of Duty: Ghosts     XOne         2.92             2013\n",
       "543                  Minecraft     XOne         2.76             2014"
      ]
     },
     "execution_count": 54,
     "metadata": {},
     "output_type": "execute_result"
    }
   ],
   "source": [
    "ventas_juegos= new_games[['name','platform','total_sales','year_of_release']]\n",
    "sub_ventas_1= ventas_juegos.query('name == \"Grand Theft Auto V\" | name == \"Call of Duty: Black Ops II\" | name== \"Call of Duty: Ghosts\" | name== \"Call of Duty: Black Ops 3\" | name== \"Minecraft\" ')\n",
    "sub_ventas_xone= sub_ventas_1.query('platform == \"XOne\"')\n",
    "sub_ventas_xone"
   ]
  },
  {
   "cell_type": "code",
   "execution_count": 55,
   "metadata": {
    "scrolled": false
   },
   "outputs": [
    {
     "data": {
      "image/png": "[encoded data removed]",
      "text/plain": [
       "<Figure size 432x360 with 1 Axes>"
      ]
     },
     "metadata": {
      "needs_background": "light"
     },
     "output_type": "display_data"
    }
   ],
   "source": [
    "sub_ventas_xone_grafico= sub_ventas_xone.groupby('name')['total_sales'].sum().sort_values(ascending=False)\n",
    "sub_ventas_xone_grafico.reset_index()\n",
    "\n",
    "sub_ventas_xone_grafico.plot(kind='bar',title= 'Ventas principales juegos XOne',color='green',\n",
    "                               grid=True,figsize=(6,5))\n",
    "plt.ylabel('Ventas (Millones de dólares estadounidenses)')\n",
    "plt.xlabel('Nombre del juego')\n",
    "plt.show()\n"
   ]
  },
  {
   "cell_type": "markdown",
   "metadata": {},
   "source": [
    "Los juego más vendidos en la plataforma PS4 son Call of Duty: Black Ops 3 y Grand Theft Auto V."
   ]
  },
  {
   "cell_type": "markdown",
   "metadata": {},
   "source": [
    "### Conclusiones<a id='conclu_juegos'></a>"
   ]
  },
  {
   "cell_type": "markdown",
   "metadata": {},
   "source": [
    "En ambas plataformas los juegos mas vendidos son Call of Duty: Black Ops 3 y Grand Theft Auto V, sin embargo en la plataforma PS4 las ventas son mayores que en la XOne."
   ]
  },
  {
   "cell_type": "markdown",
   "metadata": {},
   "source": [
    "## Distribución general de los juegos por género<a id='distribucion'></a>"
   ]
  },
  {
   "cell_type": "code",
   "execution_count": 56,
   "metadata": {},
   "outputs": [
    {
     "data": {
      "image/png": "[encoded data removed]",
      "text/plain": [
       "<Figure size 720x360 with 1 Axes>"
      ]
     },
     "metadata": {
      "needs_background": "light"
     },
     "output_type": "display_data"
    }
   ],
   "source": [
    "ventas_genero= new_games[['name','genre','total_sales']]\n",
    "ventas_genero_sum= ventas_genero.groupby('genre')['total_sales'].sum().sort_values(ascending=False)\n",
    "ventas_genero_sum.plot(kind='bar',title= 'Ventas por género de Videojuegos',color='green',\n",
    "                               grid=True,figsize=(10,5))\n",
    "plt.ylabel('Ventas (Millones de dólares estadounidenses)')\n",
    "plt.xlabel('Género del videojuego')\n",
    "plt.show()"
   ]
  },
  {
   "cell_type": "markdown",
   "metadata": {},
   "source": [
    "Se puede observar que los géneros más restables son: Action, Shooter, Role-Playing y Sports, Mientras que los que tuvieron menos ventas son: Misc, Platform, Racing, Fighting, Simulation, Adventure, Strategy, Puzzle en ese orden.     \n",
    "\n",
    "Se seleccionan los géneros Action, Shooter, Role-Playing y Sports para el análisis ya que tienen una mayor cantidad de ventas."
   ]
  },
  {
   "cell_type": "markdown",
   "metadata": {},
   "source": [
    "### Género acción<a id='accion'></a>"
   ]
  },
  {
   "cell_type": "code",
   "execution_count": 57,
   "metadata": {},
   "outputs": [
    {
     "data": {
      "text/html": [
       "<div>\n",
       "<style scoped>\n",
       "    .dataframe tbody tr th:only-of-type {\n",
       "        vertical-align: middle;\n",
       "    }\n",
       "\n",
       "    .dataframe tbody tr th {\n",
       "        vertical-align: top;\n",
       "    }\n",
       "\n",
       "    .dataframe thead th {\n",
       "        text-align: right;\n",
       "    }\n",
       "</style>\n",
       "<table border=\"1\" class=\"dataframe\">\n",
       "  <thead>\n",
       "    <tr style=\"text-align: right;\">\n",
       "      <th></th>\n",
       "      <th>name</th>\n",
       "      <th>total_sales</th>\n",
       "    </tr>\n",
       "  </thead>\n",
       "  <tbody>\n",
       "    <tr>\n",
       "      <th>200</th>\n",
       "      <td>Grand Theft Auto V</td>\n",
       "      <td>56.58</td>\n",
       "    </tr>\n",
       "    <tr>\n",
       "      <th>157</th>\n",
       "      <td>FIFA Soccer 13</td>\n",
       "      <td>15.97</td>\n",
       "    </tr>\n",
       "    <tr>\n",
       "      <th>30</th>\n",
       "      <td>Assassin's Creed IV: Black Flag</td>\n",
       "      <td>13.06</td>\n",
       "    </tr>\n",
       "    <tr>\n",
       "      <th>28</th>\n",
       "      <td>Assassin's Creed III</td>\n",
       "      <td>13.01</td>\n",
       "    </tr>\n",
       "    <tr>\n",
       "      <th>495</th>\n",
       "      <td>The Last of Us</td>\n",
       "      <td>10.58</td>\n",
       "    </tr>\n",
       "    <tr>\n",
       "      <th>...</th>\n",
       "      <td>...</td>\n",
       "      <td>...</td>\n",
       "    </tr>\n",
       "    <tr>\n",
       "      <th>531</th>\n",
       "      <td>Tsuyo Kiss 3 Portable</td>\n",
       "      <td>0.01</td>\n",
       "    </tr>\n",
       "    <tr>\n",
       "      <th>189</th>\n",
       "      <td>GoGo's Crazy Bones</td>\n",
       "      <td>0.01</td>\n",
       "    </tr>\n",
       "    <tr>\n",
       "      <th>191</th>\n",
       "      <td>God Eater Off Shot: Tachibana Sakuya-hen Twin ...</td>\n",
       "      <td>0.01</td>\n",
       "    </tr>\n",
       "    <tr>\n",
       "      <th>538</th>\n",
       "      <td>Unending Bloody Call</td>\n",
       "      <td>0.01</td>\n",
       "    </tr>\n",
       "    <tr>\n",
       "      <th>159</th>\n",
       "      <td>Fallout Anthology</td>\n",
       "      <td>0.01</td>\n",
       "    </tr>\n",
       "  </tbody>\n",
       "</table>\n",
       "<p>574 rows × 2 columns</p>\n",
       "</div>"
      ],
      "text/plain": [
       "                                                  name  total_sales\n",
       "200                                 Grand Theft Auto V        56.58\n",
       "157                                     FIFA Soccer 13        15.97\n",
       "30                     Assassin's Creed IV: Black Flag        13.06\n",
       "28                                Assassin's Creed III        13.01\n",
       "495                                     The Last of Us        10.58\n",
       "..                                                 ...          ...\n",
       "531                              Tsuyo Kiss 3 Portable         0.01\n",
       "189                                 GoGo's Crazy Bones         0.01\n",
       "191  God Eater Off Shot: Tachibana Sakuya-hen Twin ...         0.01\n",
       "538                               Unending Bloody Call         0.01\n",
       "159                                  Fallout Anthology         0.01\n",
       "\n",
       "[574 rows x 2 columns]"
      ]
     },
     "execution_count": 57,
     "metadata": {},
     "output_type": "execute_result"
    }
   ],
   "source": [
    "#Subconjunto con los géneros más rentables\n",
    "sub_generos= new_games.query('genre == \"Action\" | genre == \"Shooter\" | genre == \"Role-Playing\" | genre == \"Sports\"')\n",
    "\n",
    "#Acción\n",
    "sub_generos_action= sub_generos.query('genre == \"Action\"')\n",
    "sub_action= sub_generos_action[['name','genre','total_sales']]\n",
    "sub_action_sum= sub_action.groupby('name')['total_sales'].sum().reset_index()\n",
    "sub_action_sum.sort_values(by='total_sales', ascending=False)\n"
   ]
  },
  {
   "cell_type": "markdown",
   "metadata": {},
   "source": [
    "Como se puede observar el videojuego del género acción que tiene la mayor cantidad de ventas es Grand Theft Auto V que es precisamente uno de los juegos más vendidos tanto en PS4 como en XOne.\n",
    "\n",
    "También es conveniente resaltar que el videojuego FIFA Soccer 13 se encuentra equivocadamente en la categoría Action y su categoría correcta es Sports, esto no afecta el resultado global pero es importante resaltarlo."
   ]
  },
  {
   "cell_type": "markdown",
   "metadata": {},
   "source": [
    "### Género Shooter<a id='shooter'></a>"
   ]
  },
  {
   "cell_type": "code",
   "execution_count": 58,
   "metadata": {},
   "outputs": [
    {
     "data": {
      "text/html": [
       "<div>\n",
       "<style scoped>\n",
       "    .dataframe tbody tr th:only-of-type {\n",
       "        vertical-align: middle;\n",
       "    }\n",
       "\n",
       "    .dataframe tbody tr th {\n",
       "        vertical-align: top;\n",
       "    }\n",
       "\n",
       "    .dataframe thead th {\n",
       "        text-align: right;\n",
       "    }\n",
       "</style>\n",
       "<table border=\"1\" class=\"dataframe\">\n",
       "  <thead>\n",
       "    <tr style=\"text-align: right;\">\n",
       "      <th></th>\n",
       "      <th>name</th>\n",
       "      <th>total_sales</th>\n",
       "    </tr>\n",
       "  </thead>\n",
       "  <tbody>\n",
       "    <tr>\n",
       "      <th>19</th>\n",
       "      <td>Call of Duty: Black Ops II</td>\n",
       "      <td>29.40</td>\n",
       "    </tr>\n",
       "    <tr>\n",
       "      <th>20</th>\n",
       "      <td>Call of Duty: Ghosts</td>\n",
       "      <td>27.39</td>\n",
       "    </tr>\n",
       "    <tr>\n",
       "      <th>18</th>\n",
       "      <td>Call of Duty: Black Ops 3</td>\n",
       "      <td>25.67</td>\n",
       "    </tr>\n",
       "    <tr>\n",
       "      <th>17</th>\n",
       "      <td>Call of Duty: Advanced Warfare</td>\n",
       "      <td>21.97</td>\n",
       "    </tr>\n",
       "    <tr>\n",
       "      <th>7</th>\n",
       "      <td>Battlefield 4</td>\n",
       "      <td>13.94</td>\n",
       "    </tr>\n",
       "    <tr>\n",
       "      <th>...</th>\n",
       "      <td>...</td>\n",
       "      <td>...</td>\n",
       "    </tr>\n",
       "    <tr>\n",
       "      <th>4</th>\n",
       "      <td>Assault Suit Leynos</td>\n",
       "      <td>0.02</td>\n",
       "    </tr>\n",
       "    <tr>\n",
       "      <th>90</th>\n",
       "      <td>Touhou Genso Rondo: Bullet Ballet</td>\n",
       "      <td>0.02</td>\n",
       "    </tr>\n",
       "    <tr>\n",
       "      <th>79</th>\n",
       "      <td>Super Stardust Ultra VR</td>\n",
       "      <td>0.01</td>\n",
       "    </tr>\n",
       "    <tr>\n",
       "      <th>30</th>\n",
       "      <td>DoDonPachi Saidaioujou</td>\n",
       "      <td>0.01</td>\n",
       "    </tr>\n",
       "    <tr>\n",
       "      <th>16</th>\n",
       "      <td>Caladrius</td>\n",
       "      <td>0.01</td>\n",
       "    </tr>\n",
       "  </tbody>\n",
       "</table>\n",
       "<p>95 rows × 2 columns</p>\n",
       "</div>"
      ],
      "text/plain": [
       "                                 name  total_sales\n",
       "19         Call of Duty: Black Ops II        29.40\n",
       "20               Call of Duty: Ghosts        27.39\n",
       "18          Call of Duty: Black Ops 3        25.67\n",
       "17     Call of Duty: Advanced Warfare        21.97\n",
       "7                       Battlefield 4        13.94\n",
       "..                                ...          ...\n",
       "4                 Assault Suit Leynos         0.02\n",
       "90  Touhou Genso Rondo: Bullet Ballet         0.02\n",
       "79            Super Stardust Ultra VR         0.01\n",
       "30             DoDonPachi Saidaioujou         0.01\n",
       "16                          Caladrius         0.01\n",
       "\n",
       "[95 rows x 2 columns]"
      ]
     },
     "execution_count": 58,
     "metadata": {},
     "output_type": "execute_result"
    }
   ],
   "source": [
    "#Shooter\n",
    "sub_generos_shooter= sub_generos.query('genre == \"Shooter\"')\n",
    "sub_shooter= sub_generos_shooter[['name','genre','total_sales']]\n",
    "sub_shooter_sum= sub_shooter.groupby('name')['total_sales'].sum().reset_index()\n",
    "sub_shooter_sum.sort_values(by='total_sales', ascending=False)"
   ]
  },
  {
   "cell_type": "markdown",
   "metadata": {},
   "source": [
    "Como se puede observar el videojuego del género shooter que tiene la mayor cantidad de ventas es Call of Duty: Black Ops II que se encuentra entre los más vendidos, seguido por Call of Duty: Ghosts y Call of Duty: Black Ops 3 que son los líderes en ventas en las plataformas mas populares. "
   ]
  },
  {
   "cell_type": "markdown",
   "metadata": {},
   "source": [
    "### Género Role-Playing<a id='role'></a>"
   ]
  },
  {
   "cell_type": "code",
   "execution_count": 59,
   "metadata": {},
   "outputs": [
    {
     "data": {
      "text/html": [
       "<div>\n",
       "<style scoped>\n",
       "    .dataframe tbody tr th:only-of-type {\n",
       "        vertical-align: middle;\n",
       "    }\n",
       "\n",
       "    .dataframe tbody tr th {\n",
       "        vertical-align: top;\n",
       "    }\n",
       "\n",
       "    .dataframe thead th {\n",
       "        text-align: right;\n",
       "    }\n",
       "</style>\n",
       "<table border=\"1\" class=\"dataframe\">\n",
       "  <thead>\n",
       "    <tr style=\"text-align: right;\">\n",
       "      <th></th>\n",
       "      <th>name</th>\n",
       "      <th>total_sales</th>\n",
       "    </tr>\n",
       "  </thead>\n",
       "  <tbody>\n",
       "    <tr>\n",
       "      <th>169</th>\n",
       "      <td>Pokemon X/Pokemon Y</td>\n",
       "      <td>14.60</td>\n",
       "    </tr>\n",
       "    <tr>\n",
       "      <th>76</th>\n",
       "      <td>Fallout 4</td>\n",
       "      <td>12.67</td>\n",
       "    </tr>\n",
       "    <tr>\n",
       "      <th>166</th>\n",
       "      <td>Pokemon Omega Ruby/Pokemon Alpha Sapphire</td>\n",
       "      <td>11.68</td>\n",
       "    </tr>\n",
       "    <tr>\n",
       "      <th>37</th>\n",
       "      <td>Diablo III</td>\n",
       "      <td>10.95</td>\n",
       "    </tr>\n",
       "    <tr>\n",
       "      <th>163</th>\n",
       "      <td>Pokemon Black 2/Pokemon White 2</td>\n",
       "      <td>8.06</td>\n",
       "    </tr>\n",
       "    <tr>\n",
       "      <th>...</th>\n",
       "      <td>...</td>\n",
       "      <td>...</td>\n",
       "    </tr>\n",
       "    <tr>\n",
       "      <th>264</th>\n",
       "      <td>Zillions of Enemy X: Zetsukai no Crusade</td>\n",
       "      <td>0.02</td>\n",
       "    </tr>\n",
       "    <tr>\n",
       "      <th>61</th>\n",
       "      <td>Dungeons 2</td>\n",
       "      <td>0.01</td>\n",
       "    </tr>\n",
       "    <tr>\n",
       "      <th>54</th>\n",
       "      <td>Dragon Quest X: All in One Package</td>\n",
       "      <td>0.01</td>\n",
       "    </tr>\n",
       "    <tr>\n",
       "      <th>176</th>\n",
       "      <td>Raven's Cry</td>\n",
       "      <td>0.01</td>\n",
       "    </tr>\n",
       "    <tr>\n",
       "      <th>183</th>\n",
       "      <td>Seisou no Amazones</td>\n",
       "      <td>0.01</td>\n",
       "    </tr>\n",
       "  </tbody>\n",
       "</table>\n",
       "<p>265 rows × 2 columns</p>\n",
       "</div>"
      ],
      "text/plain": [
       "                                          name  total_sales\n",
       "169                        Pokemon X/Pokemon Y        14.60\n",
       "76                                   Fallout 4        12.67\n",
       "166  Pokemon Omega Ruby/Pokemon Alpha Sapphire        11.68\n",
       "37                                  Diablo III        10.95\n",
       "163            Pokemon Black 2/Pokemon White 2         8.06\n",
       "..                                         ...          ...\n",
       "264   Zillions of Enemy X: Zetsukai no Crusade         0.02\n",
       "61                                  Dungeons 2         0.01\n",
       "54          Dragon Quest X: All in One Package         0.01\n",
       "176                                Raven's Cry         0.01\n",
       "183                         Seisou no Amazones         0.01\n",
       "\n",
       "[265 rows x 2 columns]"
      ]
     },
     "execution_count": 59,
     "metadata": {},
     "output_type": "execute_result"
    }
   ],
   "source": [
    "#Role-Playing\n",
    "sub_generos_role= sub_generos.query('genre == \"Role-Playing\"')\n",
    "sub_role= sub_generos_role[['name','genre','total_sales']]\n",
    "sub_role_sum= sub_role.groupby('name')['total_sales'].sum().reset_index()\n",
    "sub_role_sum.sort_values(by='total_sales', ascending=False)"
   ]
  },
  {
   "cell_type": "markdown",
   "metadata": {},
   "source": [
    "Los videojuegos del género Role-Playing con mayores ventas no son de los más vendidos en las plataformas más populares."
   ]
  },
  {
   "cell_type": "markdown",
   "metadata": {},
   "source": [
    "### Género Sports<a id='sports'></a>"
   ]
  },
  {
   "cell_type": "code",
   "execution_count": 60,
   "metadata": {},
   "outputs": [
    {
     "data": {
      "text/html": [
       "<div>\n",
       "<style scoped>\n",
       "    .dataframe tbody tr th:only-of-type {\n",
       "        vertical-align: middle;\n",
       "    }\n",
       "\n",
       "    .dataframe tbody tr th {\n",
       "        vertical-align: top;\n",
       "    }\n",
       "\n",
       "    .dataframe thead th {\n",
       "        text-align: right;\n",
       "    }\n",
       "</style>\n",
       "<table border=\"1\" class=\"dataframe\">\n",
       "  <thead>\n",
       "    <tr style=\"text-align: right;\">\n",
       "      <th></th>\n",
       "      <th>name</th>\n",
       "      <th>total_sales</th>\n",
       "    </tr>\n",
       "  </thead>\n",
       "  <tbody>\n",
       "    <tr>\n",
       "      <th>10</th>\n",
       "      <td>FIFA 15</td>\n",
       "      <td>17.37</td>\n",
       "    </tr>\n",
       "    <tr>\n",
       "      <th>9</th>\n",
       "      <td>FIFA 14</td>\n",
       "      <td>16.46</td>\n",
       "    </tr>\n",
       "    <tr>\n",
       "      <th>11</th>\n",
       "      <td>FIFA 16</td>\n",
       "      <td>16.30</td>\n",
       "    </tr>\n",
       "    <tr>\n",
       "      <th>12</th>\n",
       "      <td>FIFA 17</td>\n",
       "      <td>11.48</td>\n",
       "    </tr>\n",
       "    <tr>\n",
       "      <th>53</th>\n",
       "      <td>NBA 2K16</td>\n",
       "      <td>7.98</td>\n",
       "    </tr>\n",
       "    <tr>\n",
       "      <th>...</th>\n",
       "      <td>...</td>\n",
       "      <td>...</td>\n",
       "    </tr>\n",
       "    <tr>\n",
       "      <th>64</th>\n",
       "      <td>Nike+ Kinect Training</td>\n",
       "      <td>0.03</td>\n",
       "    </tr>\n",
       "    <tr>\n",
       "      <th>2</th>\n",
       "      <td>Dead or Alive Xtreme 3: Venus</td>\n",
       "      <td>0.03</td>\n",
       "    </tr>\n",
       "    <tr>\n",
       "      <th>48</th>\n",
       "      <td>Mark McMorris Infinite Air</td>\n",
       "      <td>0.02</td>\n",
       "    </tr>\n",
       "    <tr>\n",
       "      <th>4</th>\n",
       "      <td>Dino Dini's Kick Off Revival</td>\n",
       "      <td>0.02</td>\n",
       "    </tr>\n",
       "    <tr>\n",
       "      <th>66</th>\n",
       "      <td>Pro Angler Moves</td>\n",
       "      <td>0.01</td>\n",
       "    </tr>\n",
       "  </tbody>\n",
       "</table>\n",
       "<p>99 rows × 2 columns</p>\n",
       "</div>"
      ],
      "text/plain": [
       "                             name  total_sales\n",
       "10                        FIFA 15        17.37\n",
       "9                         FIFA 14        16.46\n",
       "11                        FIFA 16        16.30\n",
       "12                        FIFA 17        11.48\n",
       "53                       NBA 2K16         7.98\n",
       "..                            ...          ...\n",
       "64          Nike+ Kinect Training         0.03\n",
       "2   Dead or Alive Xtreme 3: Venus         0.03\n",
       "48     Mark McMorris Infinite Air         0.02\n",
       "4    Dino Dini's Kick Off Revival         0.02\n",
       "66               Pro Angler Moves         0.01\n",
       "\n",
       "[99 rows x 2 columns]"
      ]
     },
     "execution_count": 60,
     "metadata": {},
     "output_type": "execute_result"
    }
   ],
   "source": [
    "##Sport\n",
    "sub_generos_sports= sub_generos.query('genre == \"Sports\"')\n",
    "sub_sports= sub_generos_sports[['name','genre','total_sales']]\n",
    "sub_sports_sum= sub_sports.groupby('name')['total_sales'].sum().reset_index()\n",
    "sub_sports_sum.sort_values(by='total_sales', ascending=False)\n"
   ]
  },
  {
   "cell_type": "markdown",
   "metadata": {},
   "source": [
    "Los videojuegos del género Sports con mayores ventas no son de los más vendidos en las plataformas más populares."
   ]
  },
  {
   "cell_type": "code",
   "execution_count": 61,
   "metadata": {},
   "outputs": [
    {
     "name": "stdout",
     "output_type": "stream",
     "text": [
      "La cuota de venta que aporta el género Action al total es de: 30.5%\n",
      "La cuota de venta que aporta el género Shooter al total es de: 21.1%\n",
      "La cuota de venta que aporta el género Role-Playing al total es de: 13.3%\n",
      "La cuota de venta que aporta el género Sports al total es de: 12.5%\n"
     ]
    }
   ],
   "source": [
    "# Calculo de cuota de ventas de los géneros mas populares\n",
    "\n",
    "ventas_totales= new_games['total_sales'].sum()\n",
    "\n",
    "ventas_accion= new_games.query('genre == \"Action\"')\n",
    "ventas_accion_1= ventas_accion['total_sales'].sum()\n",
    "\n",
    "ventas_shooter= new_games.query('genre == \"Shooter\"')\n",
    "ventas_shooter_1= ventas_shooter['total_sales'].sum()\n",
    "\n",
    "\n",
    "ventas_role= new_games.query('genre == \"Role-Playing\"')\n",
    "ventas_role_1= ventas_role['total_sales'].sum()\n",
    "\n",
    "\n",
    "ventas_sports= new_games.query('genre == \"Sports\"')\n",
    "ventas_sports_1= ventas_sports['total_sales'].sum()\n",
    "\n",
    "\n",
    "print((f'La cuota de venta que aporta el género Action al total es de: {(ventas_accion_1/ventas_totales):.1%}'))\n",
    "print((f'La cuota de venta que aporta el género Shooter al total es de: {(ventas_shooter_1/ventas_totales):.1%}'))\n",
    "print((f'La cuota de venta que aporta el género Role-Playing al total es de: {(ventas_role_1/ventas_totales):.1%}'))\n",
    "print((f'La cuota de venta que aporta el género Sports al total es de: {(ventas_sports_1/ventas_totales):.1%}'))\n"
   ]
  },
  {
   "cell_type": "markdown",
   "metadata": {},
   "source": [
    "### Conclusiones<a id='conclu_generos'></a>"
   ]
  },
  {
   "cell_type": "markdown",
   "metadata": {},
   "source": [
    "- El videojuego del género acción que tiene la mayor cantidad de ventas es Grand Theft Auto V que es precisamente uno de los juegos más vendidos tanto en PS4 como en XOne. \n",
    "\n",
    "- El videojuego del género shooter que tiene la mayor cantidad de ventas es Call of Duty: Black Ops II que se encuentra entre los más vendidos, seguido por Call of Duty: Ghosts y Call of Duty: Black Ops 3 que son los líderes en ventas en las plataformas mas populares. \n",
    "\n",
    "- Los videojuegos del género Role-Playing con mayores ventas no son de los más vendidos en las plataformas más populares.\n",
    "\n",
    "- Los videojuegos del género Sports con mayores ventas no son de los más vendidos en las plataformas más populares.\n",
    "\n",
    "- El género Action aporta el 30.5 % del total de las ventas.\n",
    "\n",
    "- El género Shooter aporta el 21.1 % del total de las ventas.\n",
    "\n",
    "- El género Role-Playing aporta el 13.3 % del total de las ventas\n",
    "\n",
    "- El género Sports aporta el 12.5 % del total de las ventas"
   ]
  },
  {
   "cell_type": "markdown",
   "metadata": {},
   "source": [
    "## Perfil de usuario por región<a id='perfil'></a>"
   ]
  },
  {
   "cell_type": "markdown",
   "metadata": {},
   "source": [
    "### Región NA<a id='na'></a>"
   ]
  },
  {
   "cell_type": "markdown",
   "metadata": {},
   "source": [
    "#### Plataformas principales<a id='Role-Playing'></a>"
   ]
  },
  {
   "cell_type": "code",
   "execution_count": 62,
   "metadata": {
    "scrolled": false
   },
   "outputs": [
    {
     "data": {
      "image/png": "[encoded data removed]",
      "text/plain": [
       "<Figure size 720x360 with 1 Axes>"
      ]
     },
     "metadata": {
      "needs_background": "light"
     },
     "output_type": "display_data"
    }
   ],
   "source": [
    "# Calcular las ventas cada plataforma. \n",
    "\n",
    "sales_platform_na= new_games.groupby('platform')['na_sales'].sum().sort_values(ascending=False)\n",
    "sales_platform_na.plot(kind='bar',title= 'Ventas de cada plataforma región NA',color='green',\n",
    "                               grid=True,figsize=(10,5))\n",
    "plt.ylabel('Ventas (Millones de dólares estadounidenses)')\n",
    "plt.xlabel('Nombre de la plataforma')\n",
    "plt.show()"
   ]
  },
  {
   "cell_type": "markdown",
   "metadata": {},
   "source": [
    "Las cinco plataformas principales de la región NA son X360, PS4, PS3, XOne y 3DS, la plataforma WiiU tiene unas ventas medias y entre las plataformas con menor popularidad tenemos Wii, PSV, DS también podemos observar que la plataforma PSP ya no tiene ventas en el período de estudio desde 2012 hasta 2016.  "
   ]
  },
  {
   "cell_type": "markdown",
   "metadata": {},
   "source": [
    "#### Géneros principales<a id='Role-Playing'></a>"
   ]
  },
  {
   "cell_type": "code",
   "execution_count": 63,
   "metadata": {},
   "outputs": [
    {
     "data": {
      "image/png": "[encoded data removed]",
      "text/plain": [
       "<Figure size 720x360 with 1 Axes>"
      ]
     },
     "metadata": {
      "needs_background": "light"
     },
     "output_type": "display_data"
    }
   ],
   "source": [
    "generos_na= new_games.groupby('genre')['na_sales'].sum().sort_values(ascending=False)\n",
    "generos_na.plot(kind='bar',title= 'Ventas por género región NA',color='green',\n",
    "                               grid=True,figsize=(10,5))\n",
    "plt.ylabel('Ventas (Millones de dólares estadounidenses)')\n",
    "plt.xlabel('Género del videojuego')\n",
    "plt.show()"
   ]
  },
  {
   "cell_type": "markdown",
   "metadata": {},
   "source": [
    "Los géneros más populares de la región NA son Action, Shooter, Sports, Role-Playing y Misc mientras los que tienen la menor popularidad en la región son Strategy y Puzzle."
   ]
  },
  {
   "cell_type": "markdown",
   "metadata": {},
   "source": [
    "#### Estudio de correlación entre las clasificaciones de ESRB y las ventas <a id='estudiar'></a>"
   ]
  },
  {
   "cell_type": "code",
   "execution_count": 64,
   "metadata": {},
   "outputs": [
    {
     "data": {
      "text/html": [
       "<div>\n",
       "<style scoped>\n",
       "    .dataframe tbody tr th:only-of-type {\n",
       "        vertical-align: middle;\n",
       "    }\n",
       "\n",
       "    .dataframe tbody tr th {\n",
       "        vertical-align: top;\n",
       "    }\n",
       "\n",
       "    .dataframe thead tr th {\n",
       "        text-align: left;\n",
       "    }\n",
       "</style>\n",
       "<table border=\"1\" class=\"dataframe\">\n",
       "  <thead>\n",
       "    <tr>\n",
       "      <th></th>\n",
       "      <th>rating</th>\n",
       "      <th>count</th>\n",
       "      <th>sum</th>\n",
       "    </tr>\n",
       "    <tr>\n",
       "      <th></th>\n",
       "      <th></th>\n",
       "      <th>na_sales</th>\n",
       "      <th>na_sales</th>\n",
       "    </tr>\n",
       "  </thead>\n",
       "  <tbody>\n",
       "    <tr>\n",
       "      <th>0</th>\n",
       "      <td>E</td>\n",
       "      <td>395</td>\n",
       "      <td>114.37</td>\n",
       "    </tr>\n",
       "    <tr>\n",
       "      <th>1</th>\n",
       "      <td>E10+</td>\n",
       "      <td>306</td>\n",
       "      <td>75.70</td>\n",
       "    </tr>\n",
       "    <tr>\n",
       "      <th>2</th>\n",
       "      <td>M</td>\n",
       "      <td>498</td>\n",
       "      <td>231.57</td>\n",
       "    </tr>\n",
       "    <tr>\n",
       "      <th>3</th>\n",
       "      <td>T</td>\n",
       "      <td>412</td>\n",
       "      <td>66.02</td>\n",
       "    </tr>\n",
       "    <tr>\n",
       "      <th>4</th>\n",
       "      <td>TBD</td>\n",
       "      <td>1275</td>\n",
       "      <td>103.31</td>\n",
       "    </tr>\n",
       "  </tbody>\n",
       "</table>\n",
       "</div>"
      ],
      "text/plain": [
       "  rating    count      sum\n",
       "         na_sales na_sales\n",
       "0      E      395   114.37\n",
       "1   E10+      306    75.70\n",
       "2      M      498   231.57\n",
       "3      T      412    66.02\n",
       "4    TBD     1275   103.31"
      ]
     },
     "execution_count": 64,
     "metadata": {},
     "output_type": "execute_result"
    }
   ],
   "source": [
    "rating_na = new_games.pivot_table(index='rating',values='na_sales',aggfunc=['count','sum'])\n",
    "rating_na= rating_na.reset_index()\n",
    "rating_na"
   ]
  },
  {
   "cell_type": "markdown",
   "metadata": {},
   "source": [
    "Los videojuegos con la clasificación M (mayores de 17 años) son los que tienen mayores ventas promedios, mientras los videojuegos con clasificación T (mayores de 13 años) son los que tienen menores ventas."
   ]
  },
  {
   "cell_type": "markdown",
   "metadata": {},
   "source": [
    "### Región EU<a id='eu'></a>"
   ]
  },
  {
   "cell_type": "markdown",
   "metadata": {},
   "source": [
    "#### Plataformas principales<a id='Role-Playing'></a>"
   ]
  },
  {
   "cell_type": "code",
   "execution_count": 65,
   "metadata": {},
   "outputs": [
    {
     "data": {
      "image/png": "[encoded data removed]",
      "text/plain": [
       "<Figure size 720x360 with 1 Axes>"
      ]
     },
     "metadata": {
      "needs_background": "light"
     },
     "output_type": "display_data"
    }
   ],
   "source": [
    "sales_platform_eu= new_games.groupby('platform')['eu_sales'].sum().sort_values(ascending=False)\n",
    "sales_platform_eu.plot(kind='bar',title= 'Ventas de cada plataforma región EU',color='green',\n",
    "                               grid=True,figsize=(10,5))\n",
    "plt.ylabel('Ventas (Millones de dólares estadounidenses)')\n",
    "plt.xlabel('Nombre de la plataforma')\n",
    "plt.show()"
   ]
  },
  {
   "cell_type": "markdown",
   "metadata": {},
   "source": [
    "Las cinco plataformas principales de la región EU son PS4, PS3, X360, XOne y 3DS, laS plataformaS PC y WiiU tienen unas ventas medias y entre las plataformas con menor popularidad tenemos Wii, PSV, DS también podemos observar que la plataforma PSP ya no tiene ventas en el período de estudio desde 2012 hasta 2016.  "
   ]
  },
  {
   "cell_type": "markdown",
   "metadata": {},
   "source": [
    "#### Géneros principales<a id='Role-Playing'></a>"
   ]
  },
  {
   "cell_type": "code",
   "execution_count": 66,
   "metadata": {},
   "outputs": [
    {
     "data": {
      "image/png": "[encoded data removed]",
      "text/plain": [
       "<Figure size 720x360 with 1 Axes>"
      ]
     },
     "metadata": {
      "needs_background": "light"
     },
     "output_type": "display_data"
    }
   ],
   "source": [
    "generos_eu= new_games.groupby('genre')['eu_sales'].sum().sort_values(ascending=False)\n",
    "generos_eu.plot(kind='bar',title= 'Ventas por género región EU',color='green',\n",
    "                               grid=True,figsize=(10,5))\n",
    "plt.ylabel('Ventas (Millones de dólares estadounidenses)')\n",
    "plt.xlabel('Género del videojuego')\n",
    "plt.show()"
   ]
  },
  {
   "cell_type": "markdown",
   "metadata": {},
   "source": [
    "Los géneros más populares de la región EU son Action, Shooter, Sports, Role-Playing y Racing, mientras los que tienen la menor popularidad en la región son Strategy y Puzzle."
   ]
  },
  {
   "cell_type": "markdown",
   "metadata": {},
   "source": [
    "#### Estudio de correlación entre las clasificaciones de ESRB y las ventas <a id='estudiar'></a>"
   ]
  },
  {
   "cell_type": "code",
   "execution_count": 67,
   "metadata": {},
   "outputs": [
    {
     "data": {
      "text/html": [
       "<div>\n",
       "<style scoped>\n",
       "    .dataframe tbody tr th:only-of-type {\n",
       "        vertical-align: middle;\n",
       "    }\n",
       "\n",
       "    .dataframe tbody tr th {\n",
       "        vertical-align: top;\n",
       "    }\n",
       "\n",
       "    .dataframe thead tr th {\n",
       "        text-align: left;\n",
       "    }\n",
       "</style>\n",
       "<table border=\"1\" class=\"dataframe\">\n",
       "  <thead>\n",
       "    <tr>\n",
       "      <th></th>\n",
       "      <th>rating</th>\n",
       "      <th>count</th>\n",
       "      <th>sum</th>\n",
       "    </tr>\n",
       "    <tr>\n",
       "      <th></th>\n",
       "      <th></th>\n",
       "      <th>eu_sales</th>\n",
       "      <th>eu_sales</th>\n",
       "    </tr>\n",
       "  </thead>\n",
       "  <tbody>\n",
       "    <tr>\n",
       "      <th>0</th>\n",
       "      <td>E</td>\n",
       "      <td>395</td>\n",
       "      <td>113.03</td>\n",
       "    </tr>\n",
       "    <tr>\n",
       "      <th>1</th>\n",
       "      <td>E10+</td>\n",
       "      <td>306</td>\n",
       "      <td>55.37</td>\n",
       "    </tr>\n",
       "    <tr>\n",
       "      <th>2</th>\n",
       "      <td>M</td>\n",
       "      <td>498</td>\n",
       "      <td>193.96</td>\n",
       "    </tr>\n",
       "    <tr>\n",
       "      <th>3</th>\n",
       "      <td>T</td>\n",
       "      <td>412</td>\n",
       "      <td>52.96</td>\n",
       "    </tr>\n",
       "    <tr>\n",
       "      <th>4</th>\n",
       "      <td>TBD</td>\n",
       "      <td>1275</td>\n",
       "      <td>91.50</td>\n",
       "    </tr>\n",
       "  </tbody>\n",
       "</table>\n",
       "</div>"
      ],
      "text/plain": [
       "  rating    count      sum\n",
       "         eu_sales eu_sales\n",
       "0      E      395   113.03\n",
       "1   E10+      306    55.37\n",
       "2      M      498   193.96\n",
       "3      T      412    52.96\n",
       "4    TBD     1275    91.50"
      ]
     },
     "execution_count": 67,
     "metadata": {},
     "output_type": "execute_result"
    }
   ],
   "source": [
    "rating_eu = new_games.pivot_table(index='rating',values='eu_sales',aggfunc=['count','sum'])\n",
    "rating_eu= rating_eu.reset_index()\n",
    "rating_eu"
   ]
  },
  {
   "cell_type": "markdown",
   "metadata": {},
   "source": [
    "Los videojuegos con la clasificación M (mayores de 17 años) son los que tienen mayores ventas promedios, mientras los videojuegos con clasificación T (mayores de 13 años) son los que tienen menores ventas."
   ]
  },
  {
   "cell_type": "markdown",
   "metadata": {},
   "source": [
    "### Región JP<a id='jp'></a>"
   ]
  },
  {
   "cell_type": "markdown",
   "metadata": {},
   "source": [
    "#### Plataformas principales<a id='Role-Playing'></a>"
   ]
  },
  {
   "cell_type": "code",
   "execution_count": 68,
   "metadata": {},
   "outputs": [
    {
     "data": {
      "image/png": "[encoded data removed]",
      "text/plain": [
       "<Figure size 720x360 with 1 Axes>"
      ]
     },
     "metadata": {
      "needs_background": "light"
     },
     "output_type": "display_data"
    }
   ],
   "source": [
    "sales_platform_jp= new_games.groupby('platform')['jp_sales'].sum().sort_values(ascending=False)\n",
    "sales_platform_jp.plot(kind='bar',title= 'Ventas de cada plataforma región JP',color='green',\n",
    "                               grid=True,figsize=(10,5))\n",
    "plt.ylabel('Ventas (Millones de dólares estadounidenses)')\n",
    "plt.xlabel('Nombre de la plataforma')\n",
    "plt.show()"
   ]
  },
  {
   "cell_type": "markdown",
   "metadata": {},
   "source": [
    "Las cinco plataformas principales de la región JP son 3DS muy por encima de las demás, seguido por PS3, PSV, PS4 Y WiiU, la plataforma PSP tiene unas ventas medias y entre las plataformas con menor popularidad tenemos Wii, DS, X360, Xone, también podemos observar que la plataforma PC ya no tiene ventas en el período de estudio desde 2012 hasta 2016.  "
   ]
  },
  {
   "cell_type": "markdown",
   "metadata": {},
   "source": [
    "#### Géneros principales<a id='Role-Playing'></a>"
   ]
  },
  {
   "cell_type": "code",
   "execution_count": 69,
   "metadata": {},
   "outputs": [
    {
     "data": {
      "image/png": "[encoded data removed]",
      "text/plain": [
       "<Figure size 720x360 with 1 Axes>"
      ]
     },
     "metadata": {
      "needs_background": "light"
     },
     "output_type": "display_data"
    }
   ],
   "source": [
    "generos_jp= new_games.groupby('genre')['jp_sales'].sum().sort_values(ascending=False)\n",
    "generos_jp.plot(kind='bar',title= 'Ventas por género región JP',color='green',\n",
    "                               grid=True,figsize=(10,5))\n",
    "plt.ylabel('Ventas (Millones de dólares estadounidenses)')\n",
    "plt.xlabel('Género del videojuego')\n",
    "plt.show()"
   ]
  },
  {
   "cell_type": "markdown",
   "metadata": {},
   "source": [
    "Los géneros más populares de la región JP son Role-Playing , Action, estos muy por encima de los demás, seguidos por Misc, Simulation, Fighting y Shooter, mientras los que tienen la menor popularidad en la región son Strategy, racing y Puzzle."
   ]
  },
  {
   "cell_type": "markdown",
   "metadata": {},
   "source": [
    "#### Estudio de correlación entre las clasificaciones de ESRB y las ventas <a id='estudiar'></a>"
   ]
  },
  {
   "cell_type": "code",
   "execution_count": 70,
   "metadata": {},
   "outputs": [
    {
     "data": {
      "text/html": [
       "<div>\n",
       "<style scoped>\n",
       "    .dataframe tbody tr th:only-of-type {\n",
       "        vertical-align: middle;\n",
       "    }\n",
       "\n",
       "    .dataframe tbody tr th {\n",
       "        vertical-align: top;\n",
       "    }\n",
       "\n",
       "    .dataframe thead tr th {\n",
       "        text-align: left;\n",
       "    }\n",
       "</style>\n",
       "<table border=\"1\" class=\"dataframe\">\n",
       "  <thead>\n",
       "    <tr>\n",
       "      <th></th>\n",
       "      <th>rating</th>\n",
       "      <th>count</th>\n",
       "      <th>sum</th>\n",
       "    </tr>\n",
       "    <tr>\n",
       "      <th></th>\n",
       "      <th></th>\n",
       "      <th>jp_sales</th>\n",
       "      <th>jp_sales</th>\n",
       "    </tr>\n",
       "  </thead>\n",
       "  <tbody>\n",
       "    <tr>\n",
       "      <th>0</th>\n",
       "      <td>E</td>\n",
       "      <td>395</td>\n",
       "      <td>28.33</td>\n",
       "    </tr>\n",
       "    <tr>\n",
       "      <th>1</th>\n",
       "      <td>E10+</td>\n",
       "      <td>306</td>\n",
       "      <td>8.19</td>\n",
       "    </tr>\n",
       "    <tr>\n",
       "      <th>2</th>\n",
       "      <td>M</td>\n",
       "      <td>498</td>\n",
       "      <td>21.20</td>\n",
       "    </tr>\n",
       "    <tr>\n",
       "      <th>3</th>\n",
       "      <td>T</td>\n",
       "      <td>412</td>\n",
       "      <td>26.02</td>\n",
       "    </tr>\n",
       "    <tr>\n",
       "      <th>4</th>\n",
       "      <td>TBD</td>\n",
       "      <td>1275</td>\n",
       "      <td>108.84</td>\n",
       "    </tr>\n",
       "  </tbody>\n",
       "</table>\n",
       "</div>"
      ],
      "text/plain": [
       "  rating    count      sum\n",
       "         jp_sales jp_sales\n",
       "0      E      395    28.33\n",
       "1   E10+      306     8.19\n",
       "2      M      498    21.20\n",
       "3      T      412    26.02\n",
       "4    TBD     1275   108.84"
      ]
     },
     "execution_count": 70,
     "metadata": {},
     "output_type": "execute_result"
    }
   ],
   "source": [
    "rating_jp = new_games.pivot_table(index='rating',values='jp_sales',aggfunc=['count','sum'])\n",
    "rating_jp= rating_jp.reset_index()\n",
    "rating_jp"
   ]
  },
  {
   "cell_type": "markdown",
   "metadata": {},
   "source": [
    "Los videojuegos con la clasificación a determinar TBD son los que tienen mayores ventas promedios, seguido por la clasificación E (mayores de 6 años) mientras los videojuegos E10+ (mayores de 10 años) son los que tienen los menores promedios de ventas."
   ]
  },
  {
   "cell_type": "markdown",
   "metadata": {},
   "source": [
    "### other Regiones <a id='other'></a>"
   ]
  },
  {
   "cell_type": "markdown",
   "metadata": {},
   "source": [
    "#### Plataformas principales<a id='Role-Playing'></a>"
   ]
  },
  {
   "cell_type": "code",
   "execution_count": 71,
   "metadata": {},
   "outputs": [
    {
     "data": {
      "image/png": "[encoded data removed]",
      "text/plain": [
       "<Figure size 720x360 with 1 Axes>"
      ]
     },
     "metadata": {
      "needs_background": "light"
     },
     "output_type": "display_data"
    }
   ],
   "source": [
    "sales_platform_other= new_games.groupby('platform')['other_sales'].sum().sort_values(ascending=False)\n",
    "sales_platform_other.plot(kind='bar',title= 'Ventas de cada plataforma región Other',color='green',\n",
    "                               grid=True,figsize=(10,5))\n",
    "plt.ylabel('Ventas (Millones de dólares estadounidenses)')\n",
    "plt.xlabel('Nombre de la plataforma')\n",
    "plt.show()"
   ]
  },
  {
   "cell_type": "markdown",
   "metadata": {},
   "source": [
    "Las plataformas más populares de la región Other son PS4 , PS3, estos muy por encima de los demás, seguidos por X360, XOne, 3DS, mientras los que tienen la menor popularidad en la región son DS y PSP"
   ]
  },
  {
   "cell_type": "markdown",
   "metadata": {},
   "source": [
    "#### Géneros principales<a id='Role-Playing'></a>"
   ]
  },
  {
   "cell_type": "code",
   "execution_count": 72,
   "metadata": {},
   "outputs": [
    {
     "data": {
      "image/png": "[encoded data removed]",
      "text/plain": [
       "<Figure size 720x360 with 1 Axes>"
      ]
     },
     "metadata": {
      "needs_background": "light"
     },
     "output_type": "display_data"
    }
   ],
   "source": [
    "generos_other= new_games.groupby('genre')['other_sales'].sum().sort_values(ascending=False)\n",
    "generos_other.plot(kind='bar',title= 'Ventas por género región Other',color='green',\n",
    "                               grid=True,figsize=(10,5))\n",
    "plt.ylabel('Ventas (Millones de dólares estadounidenses)')\n",
    "plt.xlabel('Género del videojuego')\n",
    "plt.show()"
   ]
  },
  {
   "cell_type": "markdown",
   "metadata": {},
   "source": [
    "Los géneros más populares de la región Other son Action, Shooter, estos basatante por encima de los demás, seguidos por Sports, Role-Playing y Misc, mientras los que tienen la menor popularidad en la región son Strategy y Puzzle."
   ]
  },
  {
   "cell_type": "markdown",
   "metadata": {},
   "source": [
    "#### Estudio de correlación entre las clasificaciones de ESRB y las ventas <a id='estudiar'></a>"
   ]
  },
  {
   "cell_type": "code",
   "execution_count": 73,
   "metadata": {},
   "outputs": [
    {
     "data": {
      "text/html": [
       "<div>\n",
       "<style scoped>\n",
       "    .dataframe tbody tr th:only-of-type {\n",
       "        vertical-align: middle;\n",
       "    }\n",
       "\n",
       "    .dataframe tbody tr th {\n",
       "        vertical-align: top;\n",
       "    }\n",
       "\n",
       "    .dataframe thead tr th {\n",
       "        text-align: left;\n",
       "    }\n",
       "</style>\n",
       "<table border=\"1\" class=\"dataframe\">\n",
       "  <thead>\n",
       "    <tr>\n",
       "      <th></th>\n",
       "      <th>rating</th>\n",
       "      <th>count</th>\n",
       "      <th>sum</th>\n",
       "    </tr>\n",
       "    <tr>\n",
       "      <th></th>\n",
       "      <th></th>\n",
       "      <th>other_sales</th>\n",
       "      <th>other_sales</th>\n",
       "    </tr>\n",
       "  </thead>\n",
       "  <tbody>\n",
       "    <tr>\n",
       "      <th>0</th>\n",
       "      <td>E</td>\n",
       "      <td>395</td>\n",
       "      <td>31.44</td>\n",
       "    </tr>\n",
       "    <tr>\n",
       "      <th>1</th>\n",
       "      <td>E10+</td>\n",
       "      <td>306</td>\n",
       "      <td>16.23</td>\n",
       "    </tr>\n",
       "    <tr>\n",
       "      <th>2</th>\n",
       "      <td>M</td>\n",
       "      <td>498</td>\n",
       "      <td>63.38</td>\n",
       "    </tr>\n",
       "    <tr>\n",
       "      <th>3</th>\n",
       "      <td>T</td>\n",
       "      <td>412</td>\n",
       "      <td>17.94</td>\n",
       "    </tr>\n",
       "    <tr>\n",
       "      <th>4</th>\n",
       "      <td>TBD</td>\n",
       "      <td>1275</td>\n",
       "      <td>27.17</td>\n",
       "    </tr>\n",
       "  </tbody>\n",
       "</table>\n",
       "</div>"
      ],
      "text/plain": [
       "  rating       count         sum\n",
       "         other_sales other_sales\n",
       "0      E         395       31.44\n",
       "1   E10+         306       16.23\n",
       "2      M         498       63.38\n",
       "3      T         412       17.94\n",
       "4    TBD        1275       27.17"
      ]
     },
     "execution_count": 73,
     "metadata": {},
     "output_type": "execute_result"
    }
   ],
   "source": [
    "rating_other = new_games.pivot_table(index='rating',values='other_sales',aggfunc=['count','sum'])\n",
    "rating_other= rating_other.reset_index()\n",
    "rating_other"
   ]
  },
  {
   "cell_type": "markdown",
   "metadata": {},
   "source": [
    "Los videojuegos con la clasificación M (mayores de 17 años) son los que tienen mayores ventas, mientras los videojuegos clasificación E10+ (mayores de 10 años) son los que tienen los menores promedios de ventas."
   ]
  },
  {
   "cell_type": "code",
   "execution_count": 74,
   "metadata": {},
   "outputs": [
    {
     "name": "stdout",
     "output_type": "stream",
     "text": [
      "La cuota de venta de la Región NA es: 40.9%\n",
      "La cuota de venta de la Región Eu es: 35.0%\n",
      "La cuota de venta de la Región JP es: 13.3%\n",
      "La cuota de venta de la Región Other es: 10.8%\n"
     ]
    }
   ],
   "source": [
    "ventas_totales= new_games['total_sales'].sum() \n",
    "ventas_jp= new_games['jp_sales'].sum()\n",
    "ventas_eu= new_games['eu_sales'].sum() \n",
    "ventas_na= new_games['na_sales'].sum()\n",
    "ventas_other= new_games['other_sales'].sum()\n",
    "print((f'La cuota de venta de la Región NA es: {(ventas_na/ventas_totales):.1%}'))\n",
    "print((f'La cuota de venta de la Región Eu es: {(ventas_eu/ventas_totales):.1%}'))\n",
    "print((f'La cuota de venta de la Región JP es: {(ventas_jp/ventas_totales):.1%}'))\n",
    "print((f'La cuota de venta de la Región Other es: {(ventas_other/ventas_totales):.1%}'))\n"
   ]
  },
  {
   "cell_type": "markdown",
   "metadata": {},
   "source": [
    "### Conclusiones por Región <a id='conclu_regiones'></a>"
   ]
  },
  {
   "cell_type": "markdown",
   "metadata": {},
   "source": [
    "- Las cinco plataformas principales de la región NA son X360, PS4, PS3, XOne y 3DS.\n",
    "- Las cinco plataformas principales de la región EU son PS4, PS3, X360, XOne y 3DS.\n",
    "- Las cinco plataformas principales de la región JP son 3DS muy por encima de las demás, seguido por PS3, PSV, PS4 Y WiiU. \n",
    "- Las cinco plataformas más populares de la región Other son PS4 , PS3, estos muy por encima de los demás, seguidos por X360, XOne y 3DS. \n",
    "- La principal variación entre las cuotas de mercado de las principales plataformas en las diferentes regiones se puede observar en la región JP donde la principal plataforma es la 3DS, con mucha diferencia por encima de las demás, esta plataforma si tiene popularidad en todas las regiones pero en la región JP es sin duda la mas popular.\n",
    "- Luego tenemos la popularidad de la X360 en la región NA que tiene el primer lugar cosa que no ocurre en las otras regiones por ejemplo en la región JP no figura entre las más pulares.\n",
    "- Por otro lado tenemos la presencia de la PS4 y la PS3 que tiene una presencia importante en todas las regiones.\n",
    "- La XOne tampoco es muy popular en la región JP en su lugar la plataforma WiiU cuenta con popularidad, popularidad con la que no cuenta en todas las otras regiones estudiadas.\n",
    "- Los géneros más populares de la región NA son Action, Shooter, Sports, Role-Playing y Misc.\n",
    "- Los géneros más populares de la región EU son Action, Shooter, Sports, Role-Playing y Racing.\n",
    "- Los géneros más populares de la región JP son Role-Playing , Action, estos muy por encima de los demás, seguidos por Misc, Simulation, Fighting y Shooter.\n",
    "- Los géneros más populares de la región Other son Action, Shooter, estos basatante por encima de los demás, seguidos por Sports, Role-Playing y Misc.\n",
    "- La pricipal diferencia en cuanto a géneros la podemos notar en la región JP cuyo género mas popular es Role-Playing, este género se encuentra entre el 4to y 5to lugar en todas las otras regiones estudiadas, esto puede explicar por qué este genéro figura entre los más populares en el estudio global y a su vez explica por que no figura en la popularidad de las pricipales plataformas que son PS4 y y XOne, ya que la plataforma más popular de esta región es la 3DS y además se puede relacionar con que la región Jp solo aporta el 13.3 de la recolección por ventas global, mientras que el peso mas grande lo tienen las regiones de NA y EU es por esto que las preferencias de estás regiones tienen un mayor peso. \n",
    "\n",
    "- En cuanto a la clasificación de los videojuegos podemos decir que en tres de las cuatro regiones estudiadas las mayores ventas se registraron en los videojuegos con clasificación M(+17) lo que ya no puede ir mostrando un indicio de las edades en las que se encuentran los principales consumidores de videojuegos. \n",
    "\n",
    "- La excepción ocurre nuevamente en la región JP cuyas ventas más altas se registran en los videojuegos que no cuentan con clasificación, seguidos por la clasificación E10+ (mayores de 10 años), podriamos decir que la población consumidora es más variada y amplia. "
   ]
  },
  {
   "cell_type": "markdown",
   "metadata": {},
   "source": [
    "## Probar las hipótesis estadísticas. <a id='hipotesis'></a>"
   ]
  },
  {
   "cell_type": "markdown",
   "metadata": {},
   "source": [
    "**Hipótesis 1** <a id='hipotesis_1'></a>\n",
    "\n",
    "- H0: Las calificaciones promedio de los usuarios para las plataformas Xbox One y PC son iguales\n",
    "- Ha: Las calificaciones promedio de los usuarios para las plataformas Xbox One y PC no son iguales\n",
    "- alpha = 0.05 nivel crítico de significación estadística"
   ]
  },
  {
   "cell_type": "code",
   "execution_count": 77,
   "metadata": {},
   "outputs": [
    {
     "name": "stdout",
     "output_type": "stream",
     "text": [
      "p-value:  0.5197773083212813\n",
      "No rechazamos la hipótesis nula\n"
     ]
    }
   ],
   "source": [
    "# Prueba de hipótesis\n",
    "sub_calif_plataformas= new_games[['user_score','platform']]\n",
    "sub_calif_plataformas= sub_calif_plataformas.dropna()\n",
    "#Conjunto de datos con las calificaciones de los usuarios a la plataforma XOne\n",
    "sub_calif_xone= sub_calif_plataformas.query('platform == \"XOne\"')\n",
    "hip_sub_calif_xone= sub_calif_xone['user_score']\n",
    "#Conjunto de datos con las calificaciones de los usuarios a la plataforma PC\n",
    "sub_calif_pc= sub_calif_plataformas.query('platform == \"PC\"')\n",
    "hip_sub_calif_pc= sub_calif_pc['user_score']\n",
    "\n",
    "alpha = 0.05\n",
    "\n",
    "results = st.ttest_ind(hip_sub_calif_xone, hip_sub_calif_pc, equal_var= False)\n",
    "\n",
    "print('p-value: ', results.pvalue)\n",
    "\n",
    "if results.pvalue < alpha:\n",
    "    print(\"Rechazamos la hipótesis nula\")\n",
    "else:\n",
    "    print(\"No rechazamos la hipótesis nula\") \n"
   ]
  },
  {
   "cell_type": "markdown",
   "metadata": {},
   "source": [
    "Los datos proporcionan evidencia suficiente, dado el nivel de significación que seleccionamos, para no rechazar la hipótesis nula. Por lo tanto, podemos concluir que las calificaciones promedio de los usuarios para las plataformas Xbox One y PC son iguales."
   ]
  },
  {
   "cell_type": "markdown",
   "metadata": {},
   "source": [
    "**Hipótesis 2** <a id='hipotesis_2'></a>\n",
    "\n",
    "- H0: Las calificaciones promedio de los usuarios para los géneros de Acción y Deportes no son diferentes\n",
    "- Ha: Las calificaciones promedio de los usuarios para los géneros de Acción y Deportes son diferentes\n",
    "- alpha = 0.05 nivel crítico de significación estadística"
   ]
  },
  {
   "cell_type": "code",
   "execution_count": 78,
   "metadata": {},
   "outputs": [
    {
     "name": "stdout",
     "output_type": "stream",
     "text": [
      "p-value:  1.1855920874620597e-11\n",
      "Rechazamos la hipótesis nula\n"
     ]
    }
   ],
   "source": [
    "# Prueba de hipótesis\n",
    "sub_calif_generos= new_games[['user_score','genre']]\n",
    "sub_calif_generos= sub_calif_generos.dropna()\n",
    "#Conjunto de datos con las calificaciones de los usuarios al género Action\n",
    "sub_calif_action= sub_calif_generos.query('genre == \"Action\"')\n",
    "hip_sub_calif_action= sub_calif_action['user_score']\n",
    "\n",
    "#Conjunto de datos con las calificaciones de los usuarios al género Sports\n",
    "sub_calif_sports= sub_calif_generos.query('genre == \"Sports\"')\n",
    "hip_sub_calif_sports= sub_calif_sports['user_score']\n",
    "sub_calif_sports\n",
    "\n",
    "alpha = 0.05\n",
    "\n",
    "results = st.ttest_ind(hip_sub_calif_action, hip_sub_calif_sports, equal_var= False)\n",
    "\n",
    "print('p-value: ', results.pvalue)\n",
    "\n",
    "if results.pvalue < alpha:\n",
    "    print(\"Rechazamos la hipótesis nula\")\n",
    "else:\n",
    "    print(\"No rechazamos la hipótesis nula\") \n"
   ]
  },
  {
   "cell_type": "markdown",
   "metadata": {},
   "source": [
    "Los datos proporcionan evidencia suficiente, dado el nivel de significación que seleccionamos, para rechazar la hipótesis nula. Por lo tanto, podemos concluir que las calificaciones promedio de los usuarios para los géneros de Acción y Deportes son diferentes."
   ]
  },
  {
   "cell_type": "markdown",
   "metadata": {},
   "source": [
    "## Conclusiones generales <a id='general'></a>"
   ]
  },
  {
   "cell_type": "markdown",
   "metadata": {},
   "source": [
    "El estudio se basó en el estudio de un dataset que contenía información sobre los videojuegos, plataformas, año de lanzamiento, reseñas, clasificación del videojuego según la ESRB (Junta de clasificación de software de entretenimiento) además de uno de los puntos más importantes que son las ventas obtenidas por cada uno de estos videojuegos, estás ventas están clasificadas por Región NA (Norteamérica), EU (Europa), JP (Japón), mientras que los otros países están agrupados en la categoría Other, siempre estaremos hablando en millones de dólares estadounidenses. \n",
    "\n",
    "Los datos presentaban algunos problemas que debieron ser solventados antes de iniciar con el estudio; se renombraron las columnas para eliminar las letras mayúsculas, se ajustó el tipo de dato de la columna year_of_release a Datetime con su respectivo formato y se trataron los valores ausentes de las columnas Name, Year_of_Release, Genre, Critic_Score, User_Score y Rating. \n",
    "\n",
    "Al no poder calcular medias y medianas de la variable 'name' y 'genre' se decidió reemplazarlos por 'No disponible', de esta manera no se afectan los valores del resto de los datos, en la columna rating se colocó TBD que es la abreviatura de 'a determinar' ya que no se cuenta con la clasificación de estos videojuegos.\n",
    "\n",
    "En la columna 'year_of_release' se decidió eliminar las filas con valores ausentes ya que no causaría un gran impacto en el conjunto de datos.\n",
    "\n",
    "Los valores ausentes de 'critic_score' y 'user_score' se decidió mantenerlos, para de esta manera afectar lo menos posible los valores generales del conjunto de datos. \n",
    "\n",
    "Para enriquecer los datos se crea una nueva columna 'total_sales' que contiene la suma de total de las ventas de cada región NA, EU, JP y Other. \n",
    "\n",
    "El conjunto de datos contenía información desde 1980 hasta el 2016 así que se analizó esta información para encontrar algunos patrones y delimitar un poco la información para realizar un análisis mas efectivo y adaptado a la epoca:\n",
    "\n",
    "- Es importante destacar que entre el 2005 y 2011 fueron los años de mayores lanzamientos de videojuegos, a partir de 2012 empiezan a disminuir pero se mantienen estables.\n",
    "\n",
    "- En este análisis también se determinó que las plataformas mas populares a lo largo de los años PS2, X360, PS3, Wii y fue con el estudio de estás plataformas que se pudo determinar lo siguiente:\n",
    "\n",
    "1- Las plataformas generalmente tardan generalmente entre 10 y 12 años en desparacer.\n",
    "\n",
    "2- El período de mayor ventas de las plataformas nuevas es de aproximadamente 5 años (dato obtenido de la desviación estándar) a partir de su fecha de lanzamiento, por lo que se toma el período desde 2012 hasta 2016 para construir un modelo para 2017.\n",
    "\n",
    "**A partir de este conjunto de datos mas pequeño (2012- 2016) se puede concluir lo siguiente:**\n",
    "\n",
    "- Las plataformas con más ventas son: PS4, PS3, X360,3DS, las que tuvieron unas ventas con valores medios son: XOne y WiiU por el contrario las de menor ventas son: DC, PC, PSP, PSV y Wii cuyas ventas son menores a 50 (Expresados en millones de dólares estadounidenses)\n",
    "\n",
    "- Luego de observar la distribución de las plataformas con ventas altas y medias se puede concluir que la PS4 y la XOne se encuentran en un buen momento de ventas en el año 2016 y por el contrario las plataformas PS3, X360, 3DS y WiiU en el año 2016 experimentaron una caida en sus ventas y se encuentran en sus mínimos históricos.\n",
    "\n",
    "- Con la ayuda del gráfico de dispersión donde se estudia la correlación entre las reseñas de los usuarios y las ventas de una de las plataformas más populares como lo es la PS4 se determinó que existe una correlación muy débilmente positiva y se comprueba con el calculo de las matriz de correlación cuyo resultado fue 0.06213911208908458, también podemos ver que tenemos algunos puntos dispersos que nos señalan que tenemos valores atípicos.  \n",
    "\n",
    "- Con la ayuda del gráfico de dispersión donde se estudia la correlación entre las reseñas de los críticos y las ventas de una de las plataformas más populares como lo es la PS4 que existe una correlación débilmente positiva y se comprueba con el calculo de las matriz de correlación cuyo resultado fue 0.2896591612195725, también podemos ver que tenemos algunos puntos dispersos que nos señalan que tenemos valores atípicos.  \n",
    "\n",
    "- Se estudiaron los 5 juegos con mayores ventas en las plataformas PS4 y XOne que son las platafaformas con mejores ventas del período, estos juegos son: Grand Theft Auto V, Call of Duty: Black Ops II, Call of Duty: Ghosts, Call of Duty: Black Ops 3 y Minecraft y se concluyó que en ambas plataformas los juegos mas vendidos son Call of Duty: Black Ops 3 y Grand Theft Auto V, sin embargo en la plataforma PS4 las ventas son mayores que en la XOne.\n",
    "\n",
    "- Se determinó que los géneros más restables son: Action, Shooter, Role-Playing y Sports, mientras que los que tuvieron menos ventas son: Misc, Platform, Racing, Fighting, Simulation, Adventure, Strategy, Puzzle en ese orden.  \n",
    "\n",
    "- El videojuego del género acción que tiene la mayor cantidad de ventas es Grand Theft Auto V que es precisamente uno de los juegos más vendidos tanto en PS4 como en XOne.\n",
    "\n",
    "- El videojuego del género shooter que tiene la mayor cantidad de ventas es Call of Duty: Black Ops II que se encuentra entre los más vendidos, seguido por Call of Duty: Ghosts y Call of Duty: Black Ops 3 que son los líderes en ventas en las plataformas mas populares, los videojuegos del género Role-Playing con mayores ventas no son de los más vendidos en las plataformas más populares, los videojuegos del género Sports con mayores ventas no son de los más vendidos en las plataformas más populares.\n",
    "\n",
    "- El género Action aporta el 30.5 % del total de las ventas, Shooter aporta el 21.1 %, Role-Playing aporta el 13.3 % y Sports aporta el 12.5 % del total de las ventas. \n",
    "\n",
    "Se analizó muy detalladamente los datos por Región y de este estudio se desprende lo siguiente:\n",
    "\n",
    "- Las cinco plataformas principales de la región NA son X360, PS4, PS3, XOne y 3DS.\n",
    "\n",
    "- Las cinco plataformas principales de la región EU son PS4, PS3, X360, XOne y 3DS.\n",
    "\n",
    "- Las cinco plataformas principales de la región JP son 3DS muy por encima de las demás, seguido por PS3, PSV, PS4 Y WiiU.\n",
    "\n",
    "- Las cinco plataformas más populares de la región Other son PS4 , PS3, estos muy por encima de los demás, seguidos por X360, XOne y 3DS.\n",
    "\n",
    "- La principal variación entre las cuotas de mercado de las principales plataformas en las diferentes regiones se puede observar en la región JP donde la principal plataforma es la 3DS, con mucha diferencia por encima de las demás, esta plataforma si tiene popularidad en todas las regiones pero en la región JP es sin duda la mas popular.\n",
    "\n",
    "- Luego tenemos la popularidad de la X360 en la región NA que tiene el primer lugar cosa que no ocurre en las otras regiones por ejemplo en la región JP no figura entre las más pulares.\n",
    "\n",
    "- Por otro lado tenemos la presencia de la PS4 y la PS3 que tiene una presencia importante en todas las regiones.\n",
    "\n",
    "- La XOne tampoco es muy popular en la región JP en su lugar la plataforma WiiU cuenta con popularidad, popularidad con la que no cuenta en todas las otras regiones estudiadas\n",
    "\n",
    "- La pricipal diferencia en cuanto a géneros la podemos notar en la región JP cuyo género mas popular es Role-Playing, este género se encuentra entre el 4to y 5to lugar en todas las otras regiones estudiadas, esto puede explicar por qué este genéro figura entre los más populares en el estudio global y a su vez explica por que no figura en la popularidad de las pricipales plataformas que son PS4 y y XOne, ya que la plataforma más popular de esta región es la 3DS y además se puede relacionar con que la región Jp solo aporta el 13.3 de la recolección por ventas global, mientras que el peso mas grande lo tienen las regiones de NA y EU es por esto que las preferencias de estás regiones tienen un mayor peso.\n",
    "\n",
    "- En cuanto a la clasificación de los videojuegos podemos decir que en tres de las cuatro regiones estudiadas las mayores ventas se registraron en los videojuegos con clasificación M(+17) lo que ya no puede ir mostrando un indicio de las edades en las que se encuentran los principales consumidores de videojuegos.\n",
    "\n",
    "- La excepción ocurre nuevamente en la región JP cuyas ventas más altas se registran en los videojuegos que no cuentan con clasificación, seguidos por la clasificación E10+ (mayores de 10 años), podriamos decir que la población consumidora es más variada y amplia.\n",
    "\n",
    "**Se formularon las siguientes hipótesis estadísticas:**\n",
    "\n",
    "**Hipótesis 1**\n",
    "\n",
    "   H0: Las calificaciones promedio de los usuarios para las plataformas Xbox One y PC son iguales\n",
    "\n",
    "   Ha: Las calificaciones promedio de los usuarios para las plataformas Xbox One y PC no son iguales\n",
    "   \n",
    "   alpha = 0.05 nivel crítico de significación estadística.\n",
    "   \n",
    "Se realizó la prueba T-TEST con el método scipy.stats.ttest_ind(array1, array2, equal_var) paara probar la hipótesis de que las medias de dos poblaciones estadísticas son iguales según las muestras tomadas de ellas y como no esperamos que las variaciones sean las mismas se estableció el parámetro equal_var = False.  \n",
    "\n",
    "Se concluyó lo siguiente:\n",
    "\n",
    "Los datos proporcionan evidencia suficiente, dado el nivel de significación que seleccionamos, para no rechazar la hipótesis nula. Por lo tanto, podemos concluir que las calificaciones promedio de los usuarios para las plataformas Xbox One y PC son iguales.\n",
    "\n",
    "**Hipótesis 2**\n",
    "\n",
    "   H0: Las calificaciones promedio de los usuarios para los géneros de Acción y Deportes no son diferentes\n",
    "\n",
    "   Ha: Las calificaciones promedio de los usuarios para los géneros de Acción y Deportes son diferentes\n",
    "   \n",
    "   alpha = 0.05 nivel crítico de significación estadística.\n",
    "   \n",
    "Se realizó la prueba T-TEST con el método scipy.stats.ttest_ind(array1, array2, equal_var) para probar la hipótesis de que las medias de dos poblaciones estadísticas son iguales según las muestras tomadas de ellas y como no esperamos que las variaciones sean las mismas se estableció el parámetro equal_var = False. \n",
    "\n",
    "Se concluyó lo siguiente:\n",
    "\n",
    "Los datos proporcionan evidencia suficiente, dado el nivel de significación que seleccionamos, para rechazar la hipótesis nula. Por lo tanto, podemos concluir que las calificaciones promedio de los usuarios para los géneros de Acción y Deportes son diferentes.\n"
   ]
  }
 ],
 "metadata": {
  "kernelspec": {
   "display_name": "Python 3 (ipykernel)",
   "language": "python",
   "name": "python3"
  },
  "language_info": {
   "codemirror_mode": {
    "name": "ipython",
    "version": 3
   },
   "file_extension": ".py",
   "mimetype": "text/x-python",
   "name": "python",
   "nbconvert_exporter": "python",
   "pygments_lexer": "ipython3",
   "version": "3.9.13"
  },
  "toc": {
   "base_numbering": 1,
   "nav_menu": {},
   "number_sections": true,
   "sideBar": true,
   "skip_h1_title": true,
   "title_cell": "Table of Contents",
   "title_sidebar": "Contents",
   "toc_cell": false,
   "toc_position": {
    "height": "calc(100% - 180px)",
    "left": "10px",
    "top": "150px",
    "width": "165px"
   },
   "toc_section_display": true,
   "toc_window_display": false
  }
 },
 "nbformat": 4,
 "nbformat_minor": 2
}
